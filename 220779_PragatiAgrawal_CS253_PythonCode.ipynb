{
  "metadata": {
    "kaggle": {
      "accelerator": "none",
      "dataSources": [
        {
          "sourceId": 72632,
          "databundleVersionId": 8059709,
          "sourceType": "competition"
        }
      ],
      "dockerImageVersionId": 30673,
      "isInternetEnabled": true,
      "language": "python",
      "sourceType": "notebook",
      "isGpuEnabled": false
    },
    "kernelspec": {
      "display_name": "Python 3",
      "language": "python",
      "name": "python3"
    },
    "language_info": {
      "codemirror_mode": {
        "name": "ipython",
        "version": 3
      },
      "file_extension": ".py",
      "mimetype": "text/x-python",
      "name": "python",
      "nbconvert_exporter": "python",
      "pygments_lexer": "ipython3",
      "version": "3.10.13"
    },
    "colab": {
      "provenance": []
    }
  },
  "nbformat_minor": 0,
  "nbformat": 4,
  "cells": [
    {
      "source": [
        "\n",
        "# IMPORTANT: RUN THIS CELL IN ORDER TO IMPORT YOUR KAGGLE DATA SOURCES\n",
        "# TO THE CORRECT LOCATION (/kaggle/input) IN YOUR NOTEBOOK,\n",
        "# THEN FEEL FREE TO DELETE THIS CELL.\n",
        "# NOTE: THIS NOTEBOOK ENVIRONMENT DIFFERS FROM KAGGLE'S PYTHON\n",
        "# ENVIRONMENT SO THERE MAY BE MISSING LIBRARIES USED BY YOUR\n",
        "# NOTEBOOK.\n",
        "\n",
        "import os\n",
        "import sys\n",
        "from tempfile import NamedTemporaryFile\n",
        "from urllib.request import urlopen\n",
        "from urllib.parse import unquote, urlparse\n",
        "from urllib.error import HTTPError\n",
        "from zipfile import ZipFile\n",
        "import tarfile\n",
        "import shutil\n",
        "\n",
        "CHUNK_SIZE = 40960\n",
        "DATA_SOURCE_MAPPING = 'who-is-the-real-winner:https%3A%2F%2Fstorage.googleapis.com%2Fkaggle-competitions-data%2Fkaggle-v2%2F72632%2F8059709%2Fbundle%2Farchive.zip%3FX-Goog-Algorithm%3DGOOG4-RSA-SHA256%26X-Goog-Credential%3Dgcp-kaggle-com%2540kaggle-161607.iam.gserviceaccount.com%252F20240413%252Fauto%252Fstorage%252Fgoog4_request%26X-Goog-Date%3D20240413T062255Z%26X-Goog-Expires%3D259200%26X-Goog-SignedHeaders%3Dhost%26X-Goog-Signature%3Ddff84f75b6d04a120edd23e1233fe1b6b757808cd6fbf0e783c9f65e331d1e3f1a3fc21ceec539180a24a8d79a875603619c8e51e9dbfec1d703f5baaffe66ae761783ecb7cad525a8f6b01e4626cbf8171a799a1ae7317b76e1fc2d4d78bd197f52388f4baf99f4a1847d88a554a282645b92f2dca65f473fb2863c4ff690da6bde3ae2a871622a707201f89e42c7d3566df79a5e2a810432f43c2a0252da7efebc29e1c098240237adfb92a1a38ce4d8028b1492c9064b63ae24c3efe6348f12313524a164eefa2e1883212835163953d836c701c08972813a8aa8cc0f8aa4332fe05c565a3cb91b9c0cb7d11bc3339b4744c2f1a957ef60bcb8faa41318f4'\n",
        "\n",
        "KAGGLE_INPUT_PATH='/kaggle/input'\n",
        "KAGGLE_WORKING_PATH='/kaggle/working'\n",
        "KAGGLE_SYMLINK='kaggle'\n",
        "\n",
        "!umount /kaggle/input/ 2> /dev/null\n",
        "shutil.rmtree('/kaggle/input', ignore_errors=True)\n",
        "os.makedirs(KAGGLE_INPUT_PATH, 0o777, exist_ok=True)\n",
        "os.makedirs(KAGGLE_WORKING_PATH, 0o777, exist_ok=True)\n",
        "\n",
        "try:\n",
        "  os.symlink(KAGGLE_INPUT_PATH, os.path.join(\"..\", 'input'), target_is_directory=True)\n",
        "except FileExistsError:\n",
        "  pass\n",
        "try:\n",
        "  os.symlink(KAGGLE_WORKING_PATH, os.path.join(\"..\", 'working'), target_is_directory=True)\n",
        "except FileExistsError:\n",
        "  pass\n",
        "\n",
        "for data_source_mapping in DATA_SOURCE_MAPPING.split(','):\n",
        "    directory, download_url_encoded = data_source_mapping.split(':')\n",
        "    download_url = unquote(download_url_encoded)\n",
        "    filename = urlparse(download_url).path\n",
        "    destination_path = os.path.join(KAGGLE_INPUT_PATH, directory)\n",
        "    try:\n",
        "        with urlopen(download_url) as fileres, NamedTemporaryFile() as tfile:\n",
        "            total_length = fileres.headers['content-length']\n",
        "            print(f'Downloading {directory}, {total_length} bytes compressed')\n",
        "            dl = 0\n",
        "            data = fileres.read(CHUNK_SIZE)\n",
        "            while len(data) > 0:\n",
        "                dl += len(data)\n",
        "                tfile.write(data)\n",
        "                done = int(50 * dl / int(total_length))\n",
        "                sys.stdout.write(f\"\\r[{'=' * done}{' ' * (50-done)}] {dl} bytes downloaded\")\n",
        "                sys.stdout.flush()\n",
        "                data = fileres.read(CHUNK_SIZE)\n",
        "            if filename.endswith('.zip'):\n",
        "              with ZipFile(tfile) as zfile:\n",
        "                zfile.extractall(destination_path)\n",
        "            else:\n",
        "              with tarfile.open(tfile.name) as tarfile:\n",
        "                tarfile.extractall(destination_path)\n",
        "            print(f'\\nDownloaded and uncompressed: {directory}')\n",
        "    except HTTPError as e:\n",
        "        print(f'Failed to load (likely expired) {download_url} to path {destination_path}')\n",
        "        continue\n",
        "    except OSError as e:\n",
        "        print(f'Failed to load {download_url} to path {destination_path}')\n",
        "        continue\n",
        "\n",
        "print('Data source import complete.')\n"
      ],
      "metadata": {
        "id": "ILJl9XI6H5y1",
        "colab": {
          "base_uri": "https://localhost:8080/"
        },
        "outputId": "a57e76ec-7353-45df-a49b-cbb04320c5c4"
      },
      "cell_type": "code",
      "outputs": [
        {
          "output_type": "stream",
          "name": "stdout",
          "text": [
            "Downloading who-is-the-real-winner, 89112 bytes compressed\n",
            "[==================================================] 89112 bytes downloaded\n",
            "Downloaded and uncompressed: who-is-the-real-winner\n",
            "Data source import complete.\n"
          ]
        }
      ],
      "execution_count": 46
    },
    {
      "cell_type": "markdown",
      "source": [
        "# Importing necessary libraries"
      ],
      "metadata": {
        "id": "D7GVRO5dH5y7"
      }
    },
    {
      "cell_type": "code",
      "source": [
        "import os\n",
        "import re\n",
        "from scipy import stats\n",
        "import numpy as np\n",
        "import pandas as pd\n",
        "import matplotlib.pyplot as plt\n",
        "import seaborn as sns\n",
        "\n",
        "from sklearn.preprocessing import LabelEncoder\n",
        "from sklearn.model_selection import train_test_split, GridSearchCV\n",
        "from sklearn.metrics import classification_report, confusion_matrix\n",
        "from sklearn.feature_selection import SelectKBest, f_classif"
      ],
      "metadata": {
        "_cell_guid": "b1076dfc-b9ad-4769-8c92-a6c4dae69d19",
        "_uuid": "8f2839f25d086af736a60e9eeb907d3b93b6e0e5",
        "execution": {
          "iopub.status.busy": "2024-04-13T06:22:17.694659Z",
          "iopub.execute_input": "2024-04-13T06:22:17.696211Z",
          "iopub.status.idle": "2024-04-13T06:22:18.974299Z",
          "shell.execute_reply.started": "2024-04-13T06:22:17.696131Z",
          "shell.execute_reply": "2024-04-13T06:22:18.973057Z"
        },
        "trusted": true,
        "id": "rAIgoWMnH5y-"
      },
      "execution_count": 47,
      "outputs": []
    },
    {
      "cell_type": "markdown",
      "source": [
        "# Reading Data from files"
      ],
      "metadata": {
        "id": "o-69MzzlH5y-"
      }
    },
    {
      "cell_type": "code",
      "source": [
        "for dirname, _, filenames in os.walk('/kaggle/input'):\n",
        "    for filename in filenames:\n",
        "        print(os.path.join(dirname, filename))"
      ],
      "metadata": {
        "execution": {
          "iopub.status.busy": "2024-04-13T06:22:18.976729Z",
          "iopub.execute_input": "2024-04-13T06:22:18.977489Z",
          "iopub.status.idle": "2024-04-13T06:22:18.986968Z",
          "shell.execute_reply.started": "2024-04-13T06:22:18.977438Z",
          "shell.execute_reply": "2024-04-13T06:22:18.985426Z"
        },
        "trusted": true,
        "id": "84LYF87HH5y_",
        "outputId": "557d9889-2712-44c6-937c-15cad62f0338",
        "colab": {
          "base_uri": "https://localhost:8080/"
        }
      },
      "execution_count": 48,
      "outputs": [
        {
          "output_type": "stream",
          "name": "stdout",
          "text": [
            "/kaggle/input/who-is-the-real-winner/test.csv\n",
            "/kaggle/input/who-is-the-real-winner/sample_submission.csv\n",
            "/kaggle/input/who-is-the-real-winner/train.csv\n"
          ]
        }
      ]
    },
    {
      "cell_type": "code",
      "source": [
        "train_data = pd.read_csv('/kaggle/input/who-is-the-real-winner/train.csv')\n",
        "test_data = pd.read_csv('/kaggle/input/who-is-the-real-winner/test.csv')"
      ],
      "metadata": {
        "execution": {
          "iopub.status.busy": "2024-04-13T06:22:18.988875Z",
          "iopub.execute_input": "2024-04-13T06:22:18.989524Z",
          "iopub.status.idle": "2024-04-13T06:22:19.024366Z",
          "shell.execute_reply.started": "2024-04-13T06:22:18.989483Z",
          "shell.execute_reply": "2024-04-13T06:22:19.02308Z"
        },
        "trusted": true,
        "id": "6m-Ao8urH5zB"
      },
      "execution_count": 49,
      "outputs": []
    },
    {
      "cell_type": "code",
      "source": [
        "train_data.head()"
      ],
      "metadata": {
        "execution": {
          "iopub.status.busy": "2024-04-13T06:22:19.227918Z",
          "iopub.execute_input": "2024-04-13T06:22:19.228775Z",
          "iopub.status.idle": "2024-04-13T06:22:19.249039Z",
          "shell.execute_reply.started": "2024-04-13T06:22:19.228733Z",
          "shell.execute_reply": "2024-04-13T06:22:19.247653Z"
        },
        "trusted": true,
        "id": "9yZYeFDUH5zB",
        "outputId": "993c16a2-c6b6-480d-9e59-80d307b09302",
        "colab": {
          "base_uri": "https://localhost:8080/",
          "height": 206
        }
      },
      "execution_count": 50,
      "outputs": [
        {
          "output_type": "execute_result",
          "data": {
            "text/plain": [
              "   ID             Candidate        Constituency ∇ Party  Criminal Case  \\\n",
              "0   0            M.K. Mohan            ANNA NAGAR   DMK              4   \n",
              "1   1  Khatik Ramesh Prasad           KARERA (SC)   BJP              0   \n",
              "2   2      Dr. Mantar Gowda              MADIKERI   INC              0   \n",
              "3   3          Kundan Kumar             BEGUSARAI   BJP              0   \n",
              "4   4       Swapan Majumder  BANGAON DAKSHIN (SC)   BJP              2   \n",
              "\n",
              "  Total Assets Liabilities           state      Education  \n",
              "0   211 Crore+    2 Crore+      TAMIL NADU       8th Pass  \n",
              "1     1 Crore+           0  MADHYA PRADESH      12th Pass  \n",
              "2     7 Crore+     22 Lac+       KARNATAKA  Post Graduate  \n",
              "3     9 Crore+     24 Lac+           BIHAR  Post Graduate  \n",
              "4     2 Crore+     61 Lac+     WEST BENGAL       8th Pass  "
            ],
            "text/html": [
              "\n",
              "  <div id=\"df-ece5b79e-c1ff-450f-a94b-170987a0fed7\" class=\"colab-df-container\">\n",
              "    <div>\n",
              "<style scoped>\n",
              "    .dataframe tbody tr th:only-of-type {\n",
              "        vertical-align: middle;\n",
              "    }\n",
              "\n",
              "    .dataframe tbody tr th {\n",
              "        vertical-align: top;\n",
              "    }\n",
              "\n",
              "    .dataframe thead th {\n",
              "        text-align: right;\n",
              "    }\n",
              "</style>\n",
              "<table border=\"1\" class=\"dataframe\">\n",
              "  <thead>\n",
              "    <tr style=\"text-align: right;\">\n",
              "      <th></th>\n",
              "      <th>ID</th>\n",
              "      <th>Candidate</th>\n",
              "      <th>Constituency ∇</th>\n",
              "      <th>Party</th>\n",
              "      <th>Criminal Case</th>\n",
              "      <th>Total Assets</th>\n",
              "      <th>Liabilities</th>\n",
              "      <th>state</th>\n",
              "      <th>Education</th>\n",
              "    </tr>\n",
              "  </thead>\n",
              "  <tbody>\n",
              "    <tr>\n",
              "      <th>0</th>\n",
              "      <td>0</td>\n",
              "      <td>M.K. Mohan</td>\n",
              "      <td>ANNA NAGAR</td>\n",
              "      <td>DMK</td>\n",
              "      <td>4</td>\n",
              "      <td>211 Crore+</td>\n",
              "      <td>2 Crore+</td>\n",
              "      <td>TAMIL NADU</td>\n",
              "      <td>8th Pass</td>\n",
              "    </tr>\n",
              "    <tr>\n",
              "      <th>1</th>\n",
              "      <td>1</td>\n",
              "      <td>Khatik Ramesh Prasad</td>\n",
              "      <td>KARERA (SC)</td>\n",
              "      <td>BJP</td>\n",
              "      <td>0</td>\n",
              "      <td>1 Crore+</td>\n",
              "      <td>0</td>\n",
              "      <td>MADHYA PRADESH</td>\n",
              "      <td>12th Pass</td>\n",
              "    </tr>\n",
              "    <tr>\n",
              "      <th>2</th>\n",
              "      <td>2</td>\n",
              "      <td>Dr. Mantar Gowda</td>\n",
              "      <td>MADIKERI</td>\n",
              "      <td>INC</td>\n",
              "      <td>0</td>\n",
              "      <td>7 Crore+</td>\n",
              "      <td>22 Lac+</td>\n",
              "      <td>KARNATAKA</td>\n",
              "      <td>Post Graduate</td>\n",
              "    </tr>\n",
              "    <tr>\n",
              "      <th>3</th>\n",
              "      <td>3</td>\n",
              "      <td>Kundan Kumar</td>\n",
              "      <td>BEGUSARAI</td>\n",
              "      <td>BJP</td>\n",
              "      <td>0</td>\n",
              "      <td>9 Crore+</td>\n",
              "      <td>24 Lac+</td>\n",
              "      <td>BIHAR</td>\n",
              "      <td>Post Graduate</td>\n",
              "    </tr>\n",
              "    <tr>\n",
              "      <th>4</th>\n",
              "      <td>4</td>\n",
              "      <td>Swapan Majumder</td>\n",
              "      <td>BANGAON DAKSHIN (SC)</td>\n",
              "      <td>BJP</td>\n",
              "      <td>2</td>\n",
              "      <td>2 Crore+</td>\n",
              "      <td>61 Lac+</td>\n",
              "      <td>WEST BENGAL</td>\n",
              "      <td>8th Pass</td>\n",
              "    </tr>\n",
              "  </tbody>\n",
              "</table>\n",
              "</div>\n",
              "    <div class=\"colab-df-buttons\">\n",
              "\n",
              "  <div class=\"colab-df-container\">\n",
              "    <button class=\"colab-df-convert\" onclick=\"convertToInteractive('df-ece5b79e-c1ff-450f-a94b-170987a0fed7')\"\n",
              "            title=\"Convert this dataframe to an interactive table.\"\n",
              "            style=\"display:none;\">\n",
              "\n",
              "  <svg xmlns=\"http://www.w3.org/2000/svg\" height=\"24px\" viewBox=\"0 -960 960 960\">\n",
              "    <path d=\"M120-120v-720h720v720H120Zm60-500h600v-160H180v160Zm220 220h160v-160H400v160Zm0 220h160v-160H400v160ZM180-400h160v-160H180v160Zm440 0h160v-160H620v160ZM180-180h160v-160H180v160Zm440 0h160v-160H620v160Z\"/>\n",
              "  </svg>\n",
              "    </button>\n",
              "\n",
              "  <style>\n",
              "    .colab-df-container {\n",
              "      display:flex;\n",
              "      gap: 12px;\n",
              "    }\n",
              "\n",
              "    .colab-df-convert {\n",
              "      background-color: #E8F0FE;\n",
              "      border: none;\n",
              "      border-radius: 50%;\n",
              "      cursor: pointer;\n",
              "      display: none;\n",
              "      fill: #1967D2;\n",
              "      height: 32px;\n",
              "      padding: 0 0 0 0;\n",
              "      width: 32px;\n",
              "    }\n",
              "\n",
              "    .colab-df-convert:hover {\n",
              "      background-color: #E2EBFA;\n",
              "      box-shadow: 0px 1px 2px rgba(60, 64, 67, 0.3), 0px 1px 3px 1px rgba(60, 64, 67, 0.15);\n",
              "      fill: #174EA6;\n",
              "    }\n",
              "\n",
              "    .colab-df-buttons div {\n",
              "      margin-bottom: 4px;\n",
              "    }\n",
              "\n",
              "    [theme=dark] .colab-df-convert {\n",
              "      background-color: #3B4455;\n",
              "      fill: #D2E3FC;\n",
              "    }\n",
              "\n",
              "    [theme=dark] .colab-df-convert:hover {\n",
              "      background-color: #434B5C;\n",
              "      box-shadow: 0px 1px 3px 1px rgba(0, 0, 0, 0.15);\n",
              "      filter: drop-shadow(0px 1px 2px rgba(0, 0, 0, 0.3));\n",
              "      fill: #FFFFFF;\n",
              "    }\n",
              "  </style>\n",
              "\n",
              "    <script>\n",
              "      const buttonEl =\n",
              "        document.querySelector('#df-ece5b79e-c1ff-450f-a94b-170987a0fed7 button.colab-df-convert');\n",
              "      buttonEl.style.display =\n",
              "        google.colab.kernel.accessAllowed ? 'block' : 'none';\n",
              "\n",
              "      async function convertToInteractive(key) {\n",
              "        const element = document.querySelector('#df-ece5b79e-c1ff-450f-a94b-170987a0fed7');\n",
              "        const dataTable =\n",
              "          await google.colab.kernel.invokeFunction('convertToInteractive',\n",
              "                                                    [key], {});\n",
              "        if (!dataTable) return;\n",
              "\n",
              "        const docLinkHtml = 'Like what you see? Visit the ' +\n",
              "          '<a target=\"_blank\" href=https://colab.research.google.com/notebooks/data_table.ipynb>data table notebook</a>'\n",
              "          + ' to learn more about interactive tables.';\n",
              "        element.innerHTML = '';\n",
              "        dataTable['output_type'] = 'display_data';\n",
              "        await google.colab.output.renderOutput(dataTable, element);\n",
              "        const docLink = document.createElement('div');\n",
              "        docLink.innerHTML = docLinkHtml;\n",
              "        element.appendChild(docLink);\n",
              "      }\n",
              "    </script>\n",
              "  </div>\n",
              "\n",
              "\n",
              "<div id=\"df-84039b14-0aa0-4d2a-8c50-44bbf1fdffe0\">\n",
              "  <button class=\"colab-df-quickchart\" onclick=\"quickchart('df-84039b14-0aa0-4d2a-8c50-44bbf1fdffe0')\"\n",
              "            title=\"Suggest charts\"\n",
              "            style=\"display:none;\">\n",
              "\n",
              "<svg xmlns=\"http://www.w3.org/2000/svg\" height=\"24px\"viewBox=\"0 0 24 24\"\n",
              "     width=\"24px\">\n",
              "    <g>\n",
              "        <path d=\"M19 3H5c-1.1 0-2 .9-2 2v14c0 1.1.9 2 2 2h14c1.1 0 2-.9 2-2V5c0-1.1-.9-2-2-2zM9 17H7v-7h2v7zm4 0h-2V7h2v10zm4 0h-2v-4h2v4z\"/>\n",
              "    </g>\n",
              "</svg>\n",
              "  </button>\n",
              "\n",
              "<style>\n",
              "  .colab-df-quickchart {\n",
              "      --bg-color: #E8F0FE;\n",
              "      --fill-color: #1967D2;\n",
              "      --hover-bg-color: #E2EBFA;\n",
              "      --hover-fill-color: #174EA6;\n",
              "      --disabled-fill-color: #AAA;\n",
              "      --disabled-bg-color: #DDD;\n",
              "  }\n",
              "\n",
              "  [theme=dark] .colab-df-quickchart {\n",
              "      --bg-color: #3B4455;\n",
              "      --fill-color: #D2E3FC;\n",
              "      --hover-bg-color: #434B5C;\n",
              "      --hover-fill-color: #FFFFFF;\n",
              "      --disabled-bg-color: #3B4455;\n",
              "      --disabled-fill-color: #666;\n",
              "  }\n",
              "\n",
              "  .colab-df-quickchart {\n",
              "    background-color: var(--bg-color);\n",
              "    border: none;\n",
              "    border-radius: 50%;\n",
              "    cursor: pointer;\n",
              "    display: none;\n",
              "    fill: var(--fill-color);\n",
              "    height: 32px;\n",
              "    padding: 0;\n",
              "    width: 32px;\n",
              "  }\n",
              "\n",
              "  .colab-df-quickchart:hover {\n",
              "    background-color: var(--hover-bg-color);\n",
              "    box-shadow: 0 1px 2px rgba(60, 64, 67, 0.3), 0 1px 3px 1px rgba(60, 64, 67, 0.15);\n",
              "    fill: var(--button-hover-fill-color);\n",
              "  }\n",
              "\n",
              "  .colab-df-quickchart-complete:disabled,\n",
              "  .colab-df-quickchart-complete:disabled:hover {\n",
              "    background-color: var(--disabled-bg-color);\n",
              "    fill: var(--disabled-fill-color);\n",
              "    box-shadow: none;\n",
              "  }\n",
              "\n",
              "  .colab-df-spinner {\n",
              "    border: 2px solid var(--fill-color);\n",
              "    border-color: transparent;\n",
              "    border-bottom-color: var(--fill-color);\n",
              "    animation:\n",
              "      spin 1s steps(1) infinite;\n",
              "  }\n",
              "\n",
              "  @keyframes spin {\n",
              "    0% {\n",
              "      border-color: transparent;\n",
              "      border-bottom-color: var(--fill-color);\n",
              "      border-left-color: var(--fill-color);\n",
              "    }\n",
              "    20% {\n",
              "      border-color: transparent;\n",
              "      border-left-color: var(--fill-color);\n",
              "      border-top-color: var(--fill-color);\n",
              "    }\n",
              "    30% {\n",
              "      border-color: transparent;\n",
              "      border-left-color: var(--fill-color);\n",
              "      border-top-color: var(--fill-color);\n",
              "      border-right-color: var(--fill-color);\n",
              "    }\n",
              "    40% {\n",
              "      border-color: transparent;\n",
              "      border-right-color: var(--fill-color);\n",
              "      border-top-color: var(--fill-color);\n",
              "    }\n",
              "    60% {\n",
              "      border-color: transparent;\n",
              "      border-right-color: var(--fill-color);\n",
              "    }\n",
              "    80% {\n",
              "      border-color: transparent;\n",
              "      border-right-color: var(--fill-color);\n",
              "      border-bottom-color: var(--fill-color);\n",
              "    }\n",
              "    90% {\n",
              "      border-color: transparent;\n",
              "      border-bottom-color: var(--fill-color);\n",
              "    }\n",
              "  }\n",
              "</style>\n",
              "\n",
              "  <script>\n",
              "    async function quickchart(key) {\n",
              "      const quickchartButtonEl =\n",
              "        document.querySelector('#' + key + ' button');\n",
              "      quickchartButtonEl.disabled = true;  // To prevent multiple clicks.\n",
              "      quickchartButtonEl.classList.add('colab-df-spinner');\n",
              "      try {\n",
              "        const charts = await google.colab.kernel.invokeFunction(\n",
              "            'suggestCharts', [key], {});\n",
              "      } catch (error) {\n",
              "        console.error('Error during call to suggestCharts:', error);\n",
              "      }\n",
              "      quickchartButtonEl.classList.remove('colab-df-spinner');\n",
              "      quickchartButtonEl.classList.add('colab-df-quickchart-complete');\n",
              "    }\n",
              "    (() => {\n",
              "      let quickchartButtonEl =\n",
              "        document.querySelector('#df-84039b14-0aa0-4d2a-8c50-44bbf1fdffe0 button');\n",
              "      quickchartButtonEl.style.display =\n",
              "        google.colab.kernel.accessAllowed ? 'block' : 'none';\n",
              "    })();\n",
              "  </script>\n",
              "</div>\n",
              "\n",
              "    </div>\n",
              "  </div>\n"
            ],
            "application/vnd.google.colaboratory.intrinsic+json": {
              "type": "dataframe",
              "variable_name": "train_data",
              "summary": "{\n  \"name\": \"train_data\",\n  \"rows\": 2059,\n  \"fields\": [\n    {\n      \"column\": \"ID\",\n      \"properties\": {\n        \"dtype\": \"number\",\n        \"std\": 594,\n        \"min\": 0,\n        \"max\": 2058,\n        \"num_unique_values\": 2059,\n        \"samples\": [\n          1298,\n          591,\n          1318\n        ],\n        \"semantic_type\": \"\",\n        \"description\": \"\"\n      }\n    },\n    {\n      \"column\": \"Candidate\",\n      \"properties\": {\n        \"dtype\": \"string\",\n        \"num_unique_values\": 2039,\n        \"samples\": [\n          \"Keshav Singh Desai\",\n          \"Nandkishor\",\n          \"H.M.Ganesh Prasad\"\n        ],\n        \"semantic_type\": \"\",\n        \"description\": \"\"\n      }\n    },\n    {\n      \"column\": \"Constituency \\u2207\",\n      \"properties\": {\n        \"dtype\": \"string\",\n        \"num_unique_values\": 2037,\n        \"samples\": [\n          \"MAKHDUMPUR (SC)\",\n          \"KILVELUR\",\n          \"BASERI (SC)\"\n        ],\n        \"semantic_type\": \"\",\n        \"description\": \"\"\n      }\n    },\n    {\n      \"column\": \"Party\",\n      \"properties\": {\n        \"dtype\": \"category\",\n        \"num_unique_values\": 23,\n        \"samples\": [\n          \"TDP\",\n          \"SHS\",\n          \"DMK\"\n        ],\n        \"semantic_type\": \"\",\n        \"description\": \"\"\n      }\n    },\n    {\n      \"column\": \"Criminal Case\",\n      \"properties\": {\n        \"dtype\": \"number\",\n        \"std\": 4,\n        \"min\": 0,\n        \"max\": 87,\n        \"num_unique_values\": 35,\n        \"samples\": [\n          87,\n          9,\n          18\n        ],\n        \"semantic_type\": \"\",\n        \"description\": \"\"\n      }\n    },\n    {\n      \"column\": \"Total Assets\",\n      \"properties\": {\n        \"dtype\": \"category\",\n        \"num_unique_values\": 210,\n        \"samples\": [\n          \"16 Lac+\",\n          \"34 Crore+\",\n          \"52 Crore+\"\n        ],\n        \"semantic_type\": \"\",\n        \"description\": \"\"\n      }\n    },\n    {\n      \"column\": \"Liabilities\",\n      \"properties\": {\n        \"dtype\": \"category\",\n        \"num_unique_values\": 170,\n        \"samples\": [\n          \"71 Lac+\",\n          \"6 Crore+\",\n          \"85 Lac+\"\n        ],\n        \"semantic_type\": \"\",\n        \"description\": \"\"\n      }\n    },\n    {\n      \"column\": \"state\",\n      \"properties\": {\n        \"dtype\": \"category\",\n        \"num_unique_values\": 28,\n        \"samples\": [\n          \"HIMACHAL PRADESH\",\n          \"SIKKIM\",\n          \"ODISHA\"\n        ],\n        \"semantic_type\": \"\",\n        \"description\": \"\"\n      }\n    },\n    {\n      \"column\": \"Education\",\n      \"properties\": {\n        \"dtype\": \"category\",\n        \"num_unique_values\": 10,\n        \"samples\": [\n          \"Literate\",\n          \"12th Pass\",\n          \"10th Pass\"\n        ],\n        \"semantic_type\": \"\",\n        \"description\": \"\"\n      }\n    }\n  ]\n}"
            }
          },
          "metadata": {},
          "execution_count": 50
        }
      ]
    },
    {
      "cell_type": "code",
      "source": [
        "test_data.head()"
      ],
      "metadata": {
        "execution": {
          "iopub.status.busy": "2024-04-13T06:22:19.599928Z",
          "iopub.execute_input": "2024-04-13T06:22:19.600388Z",
          "iopub.status.idle": "2024-04-13T06:22:19.616153Z",
          "shell.execute_reply.started": "2024-04-13T06:22:19.600351Z",
          "shell.execute_reply": "2024-04-13T06:22:19.615048Z"
        },
        "trusted": true,
        "id": "vKqBC59XH5zC",
        "outputId": "1e0912ba-e242-438a-9513-c314133df051",
        "colab": {
          "base_uri": "https://localhost:8080/",
          "height": 206
        }
      },
      "execution_count": 51,
      "outputs": [
        {
          "output_type": "execute_result",
          "data": {
            "text/plain": [
              "   ID                   Candidate   Constituency ∇ Party  Criminal Case  \\\n",
              "0   0           Geeta Bharat Jain  MEERA BHAYANDAR   IND              2   \n",
              "1   1              Becharam Manna           SINGUR  AITC              1   \n",
              "2   2          Sunil Vijay Tingre    VADGAON SHERI   NCP              3   \n",
              "3   3       Asit Mazumder (Tapan)        CHUNCHURA  AITC              1   \n",
              "4   4  Hriday Narayan Singh Patel            SAGRI    SP              0   \n",
              "\n",
              "  Total Assets Liabilities          state  \n",
              "0    70 Crore+   11 Crore+    MAHARASHTRA  \n",
              "1     2 Crore+     13 Lac+    WEST BENGAL  \n",
              "2    49 Crore+    1 Crore+    MAHARASHTRA  \n",
              "3     2 Crore+           0    WEST BENGAL  \n",
              "4    16 Crore+    2 Crore+  UTTAR PRADESH  "
            ],
            "text/html": [
              "\n",
              "  <div id=\"df-54f5babc-53a3-4328-9b8b-469128b31f4a\" class=\"colab-df-container\">\n",
              "    <div>\n",
              "<style scoped>\n",
              "    .dataframe tbody tr th:only-of-type {\n",
              "        vertical-align: middle;\n",
              "    }\n",
              "\n",
              "    .dataframe tbody tr th {\n",
              "        vertical-align: top;\n",
              "    }\n",
              "\n",
              "    .dataframe thead th {\n",
              "        text-align: right;\n",
              "    }\n",
              "</style>\n",
              "<table border=\"1\" class=\"dataframe\">\n",
              "  <thead>\n",
              "    <tr style=\"text-align: right;\">\n",
              "      <th></th>\n",
              "      <th>ID</th>\n",
              "      <th>Candidate</th>\n",
              "      <th>Constituency ∇</th>\n",
              "      <th>Party</th>\n",
              "      <th>Criminal Case</th>\n",
              "      <th>Total Assets</th>\n",
              "      <th>Liabilities</th>\n",
              "      <th>state</th>\n",
              "    </tr>\n",
              "  </thead>\n",
              "  <tbody>\n",
              "    <tr>\n",
              "      <th>0</th>\n",
              "      <td>0</td>\n",
              "      <td>Geeta Bharat Jain</td>\n",
              "      <td>MEERA BHAYANDAR</td>\n",
              "      <td>IND</td>\n",
              "      <td>2</td>\n",
              "      <td>70 Crore+</td>\n",
              "      <td>11 Crore+</td>\n",
              "      <td>MAHARASHTRA</td>\n",
              "    </tr>\n",
              "    <tr>\n",
              "      <th>1</th>\n",
              "      <td>1</td>\n",
              "      <td>Becharam Manna</td>\n",
              "      <td>SINGUR</td>\n",
              "      <td>AITC</td>\n",
              "      <td>1</td>\n",
              "      <td>2 Crore+</td>\n",
              "      <td>13 Lac+</td>\n",
              "      <td>WEST BENGAL</td>\n",
              "    </tr>\n",
              "    <tr>\n",
              "      <th>2</th>\n",
              "      <td>2</td>\n",
              "      <td>Sunil Vijay Tingre</td>\n",
              "      <td>VADGAON SHERI</td>\n",
              "      <td>NCP</td>\n",
              "      <td>3</td>\n",
              "      <td>49 Crore+</td>\n",
              "      <td>1 Crore+</td>\n",
              "      <td>MAHARASHTRA</td>\n",
              "    </tr>\n",
              "    <tr>\n",
              "      <th>3</th>\n",
              "      <td>3</td>\n",
              "      <td>Asit Mazumder (Tapan)</td>\n",
              "      <td>CHUNCHURA</td>\n",
              "      <td>AITC</td>\n",
              "      <td>1</td>\n",
              "      <td>2 Crore+</td>\n",
              "      <td>0</td>\n",
              "      <td>WEST BENGAL</td>\n",
              "    </tr>\n",
              "    <tr>\n",
              "      <th>4</th>\n",
              "      <td>4</td>\n",
              "      <td>Hriday Narayan Singh Patel</td>\n",
              "      <td>SAGRI</td>\n",
              "      <td>SP</td>\n",
              "      <td>0</td>\n",
              "      <td>16 Crore+</td>\n",
              "      <td>2 Crore+</td>\n",
              "      <td>UTTAR PRADESH</td>\n",
              "    </tr>\n",
              "  </tbody>\n",
              "</table>\n",
              "</div>\n",
              "    <div class=\"colab-df-buttons\">\n",
              "\n",
              "  <div class=\"colab-df-container\">\n",
              "    <button class=\"colab-df-convert\" onclick=\"convertToInteractive('df-54f5babc-53a3-4328-9b8b-469128b31f4a')\"\n",
              "            title=\"Convert this dataframe to an interactive table.\"\n",
              "            style=\"display:none;\">\n",
              "\n",
              "  <svg xmlns=\"http://www.w3.org/2000/svg\" height=\"24px\" viewBox=\"0 -960 960 960\">\n",
              "    <path d=\"M120-120v-720h720v720H120Zm60-500h600v-160H180v160Zm220 220h160v-160H400v160Zm0 220h160v-160H400v160ZM180-400h160v-160H180v160Zm440 0h160v-160H620v160ZM180-180h160v-160H180v160Zm440 0h160v-160H620v160Z\"/>\n",
              "  </svg>\n",
              "    </button>\n",
              "\n",
              "  <style>\n",
              "    .colab-df-container {\n",
              "      display:flex;\n",
              "      gap: 12px;\n",
              "    }\n",
              "\n",
              "    .colab-df-convert {\n",
              "      background-color: #E8F0FE;\n",
              "      border: none;\n",
              "      border-radius: 50%;\n",
              "      cursor: pointer;\n",
              "      display: none;\n",
              "      fill: #1967D2;\n",
              "      height: 32px;\n",
              "      padding: 0 0 0 0;\n",
              "      width: 32px;\n",
              "    }\n",
              "\n",
              "    .colab-df-convert:hover {\n",
              "      background-color: #E2EBFA;\n",
              "      box-shadow: 0px 1px 2px rgba(60, 64, 67, 0.3), 0px 1px 3px 1px rgba(60, 64, 67, 0.15);\n",
              "      fill: #174EA6;\n",
              "    }\n",
              "\n",
              "    .colab-df-buttons div {\n",
              "      margin-bottom: 4px;\n",
              "    }\n",
              "\n",
              "    [theme=dark] .colab-df-convert {\n",
              "      background-color: #3B4455;\n",
              "      fill: #D2E3FC;\n",
              "    }\n",
              "\n",
              "    [theme=dark] .colab-df-convert:hover {\n",
              "      background-color: #434B5C;\n",
              "      box-shadow: 0px 1px 3px 1px rgba(0, 0, 0, 0.15);\n",
              "      filter: drop-shadow(0px 1px 2px rgba(0, 0, 0, 0.3));\n",
              "      fill: #FFFFFF;\n",
              "    }\n",
              "  </style>\n",
              "\n",
              "    <script>\n",
              "      const buttonEl =\n",
              "        document.querySelector('#df-54f5babc-53a3-4328-9b8b-469128b31f4a button.colab-df-convert');\n",
              "      buttonEl.style.display =\n",
              "        google.colab.kernel.accessAllowed ? 'block' : 'none';\n",
              "\n",
              "      async function convertToInteractive(key) {\n",
              "        const element = document.querySelector('#df-54f5babc-53a3-4328-9b8b-469128b31f4a');\n",
              "        const dataTable =\n",
              "          await google.colab.kernel.invokeFunction('convertToInteractive',\n",
              "                                                    [key], {});\n",
              "        if (!dataTable) return;\n",
              "\n",
              "        const docLinkHtml = 'Like what you see? Visit the ' +\n",
              "          '<a target=\"_blank\" href=https://colab.research.google.com/notebooks/data_table.ipynb>data table notebook</a>'\n",
              "          + ' to learn more about interactive tables.';\n",
              "        element.innerHTML = '';\n",
              "        dataTable['output_type'] = 'display_data';\n",
              "        await google.colab.output.renderOutput(dataTable, element);\n",
              "        const docLink = document.createElement('div');\n",
              "        docLink.innerHTML = docLinkHtml;\n",
              "        element.appendChild(docLink);\n",
              "      }\n",
              "    </script>\n",
              "  </div>\n",
              "\n",
              "\n",
              "<div id=\"df-a4d0dea6-8e8a-421c-8d62-2371da4dfb17\">\n",
              "  <button class=\"colab-df-quickchart\" onclick=\"quickchart('df-a4d0dea6-8e8a-421c-8d62-2371da4dfb17')\"\n",
              "            title=\"Suggest charts\"\n",
              "            style=\"display:none;\">\n",
              "\n",
              "<svg xmlns=\"http://www.w3.org/2000/svg\" height=\"24px\"viewBox=\"0 0 24 24\"\n",
              "     width=\"24px\">\n",
              "    <g>\n",
              "        <path d=\"M19 3H5c-1.1 0-2 .9-2 2v14c0 1.1.9 2 2 2h14c1.1 0 2-.9 2-2V5c0-1.1-.9-2-2-2zM9 17H7v-7h2v7zm4 0h-2V7h2v10zm4 0h-2v-4h2v4z\"/>\n",
              "    </g>\n",
              "</svg>\n",
              "  </button>\n",
              "\n",
              "<style>\n",
              "  .colab-df-quickchart {\n",
              "      --bg-color: #E8F0FE;\n",
              "      --fill-color: #1967D2;\n",
              "      --hover-bg-color: #E2EBFA;\n",
              "      --hover-fill-color: #174EA6;\n",
              "      --disabled-fill-color: #AAA;\n",
              "      --disabled-bg-color: #DDD;\n",
              "  }\n",
              "\n",
              "  [theme=dark] .colab-df-quickchart {\n",
              "      --bg-color: #3B4455;\n",
              "      --fill-color: #D2E3FC;\n",
              "      --hover-bg-color: #434B5C;\n",
              "      --hover-fill-color: #FFFFFF;\n",
              "      --disabled-bg-color: #3B4455;\n",
              "      --disabled-fill-color: #666;\n",
              "  }\n",
              "\n",
              "  .colab-df-quickchart {\n",
              "    background-color: var(--bg-color);\n",
              "    border: none;\n",
              "    border-radius: 50%;\n",
              "    cursor: pointer;\n",
              "    display: none;\n",
              "    fill: var(--fill-color);\n",
              "    height: 32px;\n",
              "    padding: 0;\n",
              "    width: 32px;\n",
              "  }\n",
              "\n",
              "  .colab-df-quickchart:hover {\n",
              "    background-color: var(--hover-bg-color);\n",
              "    box-shadow: 0 1px 2px rgba(60, 64, 67, 0.3), 0 1px 3px 1px rgba(60, 64, 67, 0.15);\n",
              "    fill: var(--button-hover-fill-color);\n",
              "  }\n",
              "\n",
              "  .colab-df-quickchart-complete:disabled,\n",
              "  .colab-df-quickchart-complete:disabled:hover {\n",
              "    background-color: var(--disabled-bg-color);\n",
              "    fill: var(--disabled-fill-color);\n",
              "    box-shadow: none;\n",
              "  }\n",
              "\n",
              "  .colab-df-spinner {\n",
              "    border: 2px solid var(--fill-color);\n",
              "    border-color: transparent;\n",
              "    border-bottom-color: var(--fill-color);\n",
              "    animation:\n",
              "      spin 1s steps(1) infinite;\n",
              "  }\n",
              "\n",
              "  @keyframes spin {\n",
              "    0% {\n",
              "      border-color: transparent;\n",
              "      border-bottom-color: var(--fill-color);\n",
              "      border-left-color: var(--fill-color);\n",
              "    }\n",
              "    20% {\n",
              "      border-color: transparent;\n",
              "      border-left-color: var(--fill-color);\n",
              "      border-top-color: var(--fill-color);\n",
              "    }\n",
              "    30% {\n",
              "      border-color: transparent;\n",
              "      border-left-color: var(--fill-color);\n",
              "      border-top-color: var(--fill-color);\n",
              "      border-right-color: var(--fill-color);\n",
              "    }\n",
              "    40% {\n",
              "      border-color: transparent;\n",
              "      border-right-color: var(--fill-color);\n",
              "      border-top-color: var(--fill-color);\n",
              "    }\n",
              "    60% {\n",
              "      border-color: transparent;\n",
              "      border-right-color: var(--fill-color);\n",
              "    }\n",
              "    80% {\n",
              "      border-color: transparent;\n",
              "      border-right-color: var(--fill-color);\n",
              "      border-bottom-color: var(--fill-color);\n",
              "    }\n",
              "    90% {\n",
              "      border-color: transparent;\n",
              "      border-bottom-color: var(--fill-color);\n",
              "    }\n",
              "  }\n",
              "</style>\n",
              "\n",
              "  <script>\n",
              "    async function quickchart(key) {\n",
              "      const quickchartButtonEl =\n",
              "        document.querySelector('#' + key + ' button');\n",
              "      quickchartButtonEl.disabled = true;  // To prevent multiple clicks.\n",
              "      quickchartButtonEl.classList.add('colab-df-spinner');\n",
              "      try {\n",
              "        const charts = await google.colab.kernel.invokeFunction(\n",
              "            'suggestCharts', [key], {});\n",
              "      } catch (error) {\n",
              "        console.error('Error during call to suggestCharts:', error);\n",
              "      }\n",
              "      quickchartButtonEl.classList.remove('colab-df-spinner');\n",
              "      quickchartButtonEl.classList.add('colab-df-quickchart-complete');\n",
              "    }\n",
              "    (() => {\n",
              "      let quickchartButtonEl =\n",
              "        document.querySelector('#df-a4d0dea6-8e8a-421c-8d62-2371da4dfb17 button');\n",
              "      quickchartButtonEl.style.display =\n",
              "        google.colab.kernel.accessAllowed ? 'block' : 'none';\n",
              "    })();\n",
              "  </script>\n",
              "</div>\n",
              "\n",
              "    </div>\n",
              "  </div>\n"
            ],
            "application/vnd.google.colaboratory.intrinsic+json": {
              "type": "dataframe",
              "variable_name": "test_data",
              "summary": "{\n  \"name\": \"test_data\",\n  \"rows\": 1374,\n  \"fields\": [\n    {\n      \"column\": \"ID\",\n      \"properties\": {\n        \"dtype\": \"number\",\n        \"std\": 396,\n        \"min\": 0,\n        \"max\": 1373,\n        \"num_unique_values\": 1374,\n        \"samples\": [\n          430,\n          588,\n          296\n        ],\n        \"semantic_type\": \"\",\n        \"description\": \"\"\n      }\n    },\n    {\n      \"column\": \"Candidate\",\n      \"properties\": {\n        \"dtype\": \"string\",\n        \"num_unique_values\": 1372,\n        \"samples\": [\n          \"Subhash Tripathi\",\n          \"K. Raghavendra Basavaraj Hitnal\",\n          \"Debnath Hansda\"\n        ],\n        \"semantic_type\": \"\",\n        \"description\": \"\"\n      }\n    },\n    {\n      \"column\": \"Constituency \\u2207\",\n      \"properties\": {\n        \"dtype\": \"string\",\n        \"num_unique_values\": 1361,\n        \"samples\": [\n          \"LALGUDI\",\n          \"UNA\",\n          \"NIZAMABAD\"\n        ],\n        \"semantic_type\": \"\",\n        \"description\": \"\"\n      }\n    },\n    {\n      \"column\": \"Party\",\n      \"properties\": {\n        \"dtype\": \"category\",\n        \"num_unique_values\": 23,\n        \"samples\": [\n          \"JMM\",\n          \"INC\",\n          \"IND\"\n        ],\n        \"semantic_type\": \"\",\n        \"description\": \"\"\n      }\n    },\n    {\n      \"column\": \"Criminal Case\",\n      \"properties\": {\n        \"dtype\": \"number\",\n        \"std\": 6,\n        \"min\": 0,\n        \"max\": 173,\n        \"num_unique_values\": 32,\n        \"samples\": [\n          173,\n          16,\n          21\n        ],\n        \"semantic_type\": \"\",\n        \"description\": \"\"\n      }\n    },\n    {\n      \"column\": \"Total Assets\",\n      \"properties\": {\n        \"dtype\": \"category\",\n        \"num_unique_values\": 177,\n        \"samples\": [\n          \"77 Lac+\",\n          \"50 Crore+\",\n          \"439 Crore+\"\n        ],\n        \"semantic_type\": \"\",\n        \"description\": \"\"\n      }\n    },\n    {\n      \"column\": \"Liabilities\",\n      \"properties\": {\n        \"dtype\": \"category\",\n        \"num_unique_values\": 162,\n        \"samples\": [\n          \"75 Thou+\",\n          \"283 Crore+\",\n          \"99 Thou+\"\n        ],\n        \"semantic_type\": \"\",\n        \"description\": \"\"\n      }\n    },\n    {\n      \"column\": \"state\",\n      \"properties\": {\n        \"dtype\": \"category\",\n        \"num_unique_values\": 28,\n        \"samples\": [\n          \"MADHYA PRADESH\",\n          \"GOA\",\n          \"HIMACHAL PRADESH\"\n        ],\n        \"semantic_type\": \"\",\n        \"description\": \"\"\n      }\n    }\n  ]\n}"
            }
          },
          "metadata": {},
          "execution_count": 51
        }
      ]
    },
    {
      "cell_type": "markdown",
      "source": [
        "# Data Pre-Processing Steps"
      ],
      "metadata": {
        "id": "ydvUIdy-H5zD"
      }
    },
    {
      "cell_type": "markdown",
      "source": [
        "### To convert categorical values to int / float, found all unique values"
      ],
      "metadata": {
        "id": "Wigj2CM5H5zE"
      }
    },
    {
      "cell_type": "code",
      "source": [
        "unique_values = sorted(train_data['Total Assets'].unique())\n",
        "print(unique_values)"
      ],
      "metadata": {
        "execution": {
          "iopub.status.busy": "2024-04-13T06:22:20.819781Z",
          "iopub.execute_input": "2024-04-13T06:22:20.820196Z",
          "iopub.status.idle": "2024-04-13T06:22:20.828015Z",
          "shell.execute_reply.started": "2024-04-13T06:22:20.820163Z",
          "shell.execute_reply": "2024-04-13T06:22:20.826719Z"
        },
        "trusted": true,
        "id": "mIabOIE4H5zE",
        "outputId": "703b384e-2a19-450c-ccd7-be879b8a72e8",
        "colab": {
          "base_uri": "https://localhost:8080/"
        }
      },
      "execution_count": 52,
      "outputs": [
        {
          "output_type": "stream",
          "name": "stdout",
          "text": [
            "['0', '1 Crore+', '1 Lac+', '10 Crore+', '10 Lac+', '102 Crore+', '105 Crore+', '106 Crore+', '109 Crore+', '11 Crore+', '11 Lac+', '110 Crore+', '111 Crore+', '112 Crore+', '115 Crore+', '1156 Crore+', '12 Crore+', '12 Lac+', '122 Crore+', '1267 Crore+', '128 Crore+', '13 Crore+', '13 Lac+', '134 Crore+', '135 Crore+', '138 Crore+', '14 Crore+', '14 Lac+', '141 Crore+', '15 Crore+', '15 Lac+', '15 Thou+', '159 Crore+', '16 Crore+', '16 Lac+', '163 Crore+', '17 Crore+', '17 Lac+', '18 Crore+', '18 Lac+', '18 Thou+', '183 Crore+', '187 Crore+', '189 Crore+', '19 Crore+', '19 Lac+', '191 Crore+', '2 Crore+', '2 Lac+', '20 Crore+', '20 Lac+', '21 Crore+', '21 Lac+', '211 Crore+', '22 Crore+', '22 Lac+', '23 Crore+', '23 Lac+', '24 Crore+', '24 Lac+', '24 Thou+', '242 Crore+', '25 Crore+', '25 Lac+', '26 Crore+', '26 Lac+', '27 Crore+', '27 Lac+', '274 Crore+', '28 Crore+', '28 Lac+', '29 Crore+', '29 Lac+', '293 Crore+', '296 Crore+', '3 Crore+', '3 Lac+', '30 Crore+', '30 Thou+', '31 Crore+', '31 Lac+', '312 Crore+', '313 Crore+', '32 Crore+', '32 Lac+', '33 Crore+', '33 Lac+', '34 Crore+', '34 Lac+', '35 Crore+', '35 Lac+', '36 Crore+', '36 Lac+', '363 Crore+', '37 Crore+', '37 Lac+', '38 Crore+', '38 Lac+', '39 Crore+', '39 Lac+', '4 Crore+', '4 Lac+', '40 Crore+', '40 Lac+', '41 Crore+', '41 Lac+', '42 Crore+', '42 Lac+', '43 Crore+', '43 Lac+', '44 Crore+', '44 Lac+', '45 Crore+', '45 Lac+', '46 Crore+', '46 Lac+', '47 Lac+', '48 Crore+', '49 Crore+', '49 Lac+', '5 Crore+', '5 Lac+', '50 Lac+', '500 Crore+', '51 Crore+', '51 Lac+', '51 Thou+', '52 Crore+', '52 Lac+', '53 Crore+', '53 Lac+', '54 Crore+', '54 Lac+', '55 Lac+', '56 Crore+', '56 Lac+', '57 Lac+', '58 Crore+', '58 Lac+', '59 Crore+', '59 Lac+', '6 Crore+', '6 Lac+', '60 Lac+', '61 Crore+', '61 Lac+', '62 Crore+', '62 Lac+', '63 Crore+', '63 Lac+', '64 Crore+', '64 Lac+', '65 Crore+', '65 Lac+', '66 Crore+', '66 Lac+', '668 Crore+', '67 Crore+', '67 Lac+', '68 Crore+', '68 Lac+', '69 Crore+', '7 Crore+', '70 Crore+', '70 Lac+', '71 Crore+', '71 Lac+', '72 Crore+', '72 Lac+', '72 Thou+', '73 Lac+', '73 Thou+', '74 Crore+', '74 Lac+', '75 Crore+', '75 Lac+', '76 Lac+', '77 Lac+', '78 Lac+', '79 Crore+', '79 Lac+', '8 Crore+', '8 Lac+', '80 Crore+', '80 Lac+', '81 Crore+', '81 Lac+', '82 Lac+', '83 Lac+', '84 Crore+', '84 Lac+', '85 Lac+', '86 Lac+', '87 Lac+', '88 Lac+', '89 Crore+', '89 Lac+', '9 Crore+', '9 Lac+', '90 Lac+', '91 Lac+', '92 Crore+', '92 Lac+', '93 Lac+', '94 Lac+', '95 Lac+', '96 Lac+', '97 Lac+', '98 Lac+', '99 Lac+']\n"
          ]
        }
      ]
    },
    {
      "cell_type": "markdown",
      "source": [
        "### Function to convert assets and liabilities to numbers"
      ],
      "metadata": {
        "id": "uQPnjjnnH5zF"
      }
    },
    {
      "cell_type": "code",
      "source": [
        "def convert_to_float(value):\n",
        "    if 'crore' in value.lower():\n",
        "        return float(value.lower().replace('crore', '')) * 10000000\n",
        "    elif 'lac' in value.lower():\n",
        "        return float(value.lower().replace('lac', '')) * 100000\n",
        "    elif 'thou' in value.lower():\n",
        "        return float(value.lower().replace('thou', '')) * 1000\n",
        "    elif 'hund' in value.lower():\n",
        "        return float(value.lower().replace('hund', '')) * 100\n",
        "    else:\n",
        "        return float(value)"
      ],
      "metadata": {
        "execution": {
          "iopub.status.busy": "2024-04-13T06:22:21.516408Z",
          "iopub.execute_input": "2024-04-13T06:22:21.516819Z",
          "iopub.status.idle": "2024-04-13T06:22:21.526694Z",
          "shell.execute_reply.started": "2024-04-13T06:22:21.516788Z",
          "shell.execute_reply": "2024-04-13T06:22:21.525444Z"
        },
        "trusted": true,
        "id": "NnrfGAA3H5zF"
      },
      "execution_count": 53,
      "outputs": []
    },
    {
      "cell_type": "code",
      "source": [
        "def convert_to_int(value):\n",
        "    if 'crore' in value.lower():\n",
        "        return int(value.lower().replace('crore', '')) * 10000000\n",
        "    elif 'lac' in value.lower():\n",
        "        return int(value.lower().replace('lac', '')) * 100000\n",
        "    elif 'thou' in value.lower():\n",
        "        return int(value.lower().replace('thou', '')) * 1000\n",
        "    elif 'hund' in value.lower():\n",
        "        return int(value.lower().replace('hund', '')) * 100\n",
        "    else:\n",
        "        return int(value)"
      ],
      "metadata": {
        "execution": {
          "iopub.status.busy": "2024-04-13T06:22:21.878506Z",
          "iopub.execute_input": "2024-04-13T06:22:21.879048Z",
          "iopub.status.idle": "2024-04-13T06:22:21.888936Z",
          "shell.execute_reply.started": "2024-04-13T06:22:21.879004Z",
          "shell.execute_reply": "2024-04-13T06:22:21.887264Z"
        },
        "trusted": true,
        "id": "eirc3ob8H5zF"
      },
      "execution_count": 54,
      "outputs": []
    },
    {
      "cell_type": "markdown",
      "source": [
        "### Removed unnecessary column (Name and ID) and cleaned 'Total Assets' and 'Liabilities'"
      ],
      "metadata": {
        "id": "v4CnzGH5H5zG"
      }
    },
    {
      "cell_type": "code",
      "source": [
        "train_data['Total Assets'] = train_data['Total Assets'].str.replace('+', '')\n",
        "train_data['Liabilities'] = train_data['Liabilities'].str.replace('+', '')\n",
        "\n",
        "train_data['Total Assets'] = train_data['Total Assets'].apply(convert_to_float)\n",
        "train_data['Liabilities'] = train_data['Liabilities'].apply(convert_to_float)"
      ],
      "metadata": {
        "execution": {
          "iopub.status.busy": "2024-04-13T06:22:22.620516Z",
          "iopub.execute_input": "2024-04-13T06:22:22.621051Z",
          "iopub.status.idle": "2024-04-13T06:22:22.642303Z",
          "shell.execute_reply.started": "2024-04-13T06:22:22.621004Z",
          "shell.execute_reply": "2024-04-13T06:22:22.640619Z"
        },
        "trusted": true,
        "id": "5zqGBB6qH5zG"
      },
      "execution_count": 55,
      "outputs": []
    },
    {
      "cell_type": "code",
      "source": [
        "test_data['Total Assets'] = test_data['Total Assets'].str.replace('+', '')\n",
        "test_data['Liabilities'] = test_data['Liabilities'].str.replace('+', '')\n",
        "\n",
        "test_data['Total Assets'] = test_data['Total Assets'].apply(convert_to_float)\n",
        "test_data['Liabilities'] = test_data['Liabilities'].apply(convert_to_float)"
      ],
      "metadata": {
        "execution": {
          "iopub.status.busy": "2024-04-13T06:22:22.932866Z",
          "iopub.execute_input": "2024-04-13T06:22:22.933401Z",
          "iopub.status.idle": "2024-04-13T06:22:22.94948Z",
          "shell.execute_reply.started": "2024-04-13T06:22:22.933361Z",
          "shell.execute_reply": "2024-04-13T06:22:22.947821Z"
        },
        "trusted": true,
        "id": "tRJAERuVH5zG"
      },
      "execution_count": 56,
      "outputs": []
    },
    {
      "cell_type": "code",
      "source": [
        "train_data['Advocate'] = 0\n",
        "train_data['Doctor'] = 0\n",
        "\n",
        "train_data.loc[train_data['Candidate'].str.contains('Adv.'), 'Advocate'] = 1\n",
        "train_data.loc[train_data['Candidate'].str.contains('Dr.'), 'Doctor'] = 1"
      ],
      "metadata": {
        "execution": {
          "iopub.status.busy": "2024-04-13T06:22:23.256329Z",
          "iopub.execute_input": "2024-04-13T06:22:23.256797Z",
          "iopub.status.idle": "2024-04-13T06:22:23.273736Z",
          "shell.execute_reply.started": "2024-04-13T06:22:23.256762Z",
          "shell.execute_reply": "2024-04-13T06:22:23.272265Z"
        },
        "trusted": true,
        "id": "U8C8QGXTH5zH"
      },
      "execution_count": 57,
      "outputs": []
    },
    {
      "cell_type": "code",
      "source": [
        "test_data['Advocate'] = 0\n",
        "test_data['Doctor'] = 0\n",
        "\n",
        "test_data.loc[test_data['Candidate'].str.contains('Adv.'), 'Advocate'] = 1\n",
        "test_data.loc[test_data['Candidate'].str.contains('Dr.'), 'Doctor'] = 1"
      ],
      "metadata": {
        "execution": {
          "iopub.status.busy": "2024-04-13T06:22:23.618598Z",
          "iopub.execute_input": "2024-04-13T06:22:23.619129Z",
          "iopub.status.idle": "2024-04-13T06:22:23.633385Z",
          "shell.execute_reply.started": "2024-04-13T06:22:23.619084Z",
          "shell.execute_reply": "2024-04-13T06:22:23.632062Z"
        },
        "trusted": true,
        "id": "SRkOkRnqH5zH"
      },
      "execution_count": 58,
      "outputs": []
    },
    {
      "cell_type": "code",
      "source": [
        "train_data.drop(['ID', 'Candidate'], axis=1, inplace=True)"
      ],
      "metadata": {
        "execution": {
          "iopub.status.busy": "2024-04-13T06:22:23.970153Z",
          "iopub.execute_input": "2024-04-13T06:22:23.970686Z",
          "iopub.status.idle": "2024-04-13T06:22:23.981657Z",
          "shell.execute_reply.started": "2024-04-13T06:22:23.970639Z",
          "shell.execute_reply": "2024-04-13T06:22:23.979614Z"
        },
        "trusted": true,
        "id": "pyABuwMbH5zH"
      },
      "execution_count": 59,
      "outputs": []
    },
    {
      "cell_type": "code",
      "source": [
        "test_data.drop(['ID', 'Candidate'], axis=1, inplace=True)"
      ],
      "metadata": {
        "execution": {
          "iopub.status.busy": "2024-04-13T06:22:24.375Z",
          "iopub.execute_input": "2024-04-13T06:22:24.375526Z",
          "iopub.status.idle": "2024-04-13T06:22:24.384668Z",
          "shell.execute_reply.started": "2024-04-13T06:22:24.375469Z",
          "shell.execute_reply": "2024-04-13T06:22:24.383268Z"
        },
        "trusted": true,
        "id": "yrOn2AiwH5zH"
      },
      "execution_count": 60,
      "outputs": []
    },
    {
      "cell_type": "markdown",
      "source": [
        "## One-Hot encoding for 'State' and 'Party' columns"
      ],
      "metadata": {
        "id": "yDkXhIj6H5zH"
      }
    },
    {
      "cell_type": "code",
      "source": [
        "state_one_hot_train = pd.get_dummies(train_data['state'])\n",
        "party_one_hot_train = pd.get_dummies(train_data['Party'])\n",
        "\n",
        "train_data = pd.concat([train_data, state_one_hot_train, party_one_hot_train], axis=1)\n",
        "for col in train_data.columns:\n",
        "    train_data[col] = train_data[col].replace({False: 0, True: 1})"
      ],
      "metadata": {
        "execution": {
          "iopub.status.busy": "2024-04-13T06:22:25.209801Z",
          "iopub.execute_input": "2024-04-13T06:22:25.210358Z",
          "iopub.status.idle": "2024-04-13T06:22:25.379428Z",
          "shell.execute_reply.started": "2024-04-13T06:22:25.210315Z",
          "shell.execute_reply": "2024-04-13T06:22:25.377905Z"
        },
        "trusted": true,
        "id": "5vCefqKfH5zH"
      },
      "execution_count": 61,
      "outputs": []
    },
    {
      "cell_type": "code",
      "source": [
        "state_one_hot_test = pd.get_dummies(test_data['state'])\n",
        "party_one_hot_test = pd.get_dummies(test_data['Party'])\n",
        "\n",
        "test_data = pd.concat([test_data, state_one_hot_test, party_one_hot_test], axis=1)\n",
        "for col in test_data.columns:\n",
        "    test_data[col] = test_data[col].replace({False: 0, True: 1})"
      ],
      "metadata": {
        "execution": {
          "iopub.status.busy": "2024-04-13T06:22:25.563111Z",
          "iopub.execute_input": "2024-04-13T06:22:25.564688Z",
          "iopub.status.idle": "2024-04-13T06:22:25.699238Z",
          "shell.execute_reply.started": "2024-04-13T06:22:25.564628Z",
          "shell.execute_reply": "2024-04-13T06:22:25.696884Z"
        },
        "trusted": true,
        "id": "pi3wKpHCH5zI"
      },
      "execution_count": 62,
      "outputs": []
    },
    {
      "cell_type": "markdown",
      "source": [
        "# Feature Engineering"
      ],
      "metadata": {
        "id": "L3vvYwLJH5zI"
      }
    },
    {
      "cell_type": "markdown",
      "source": [
        "### Created new feature 'Net Capital' as the difference between 'Total Assets' and 'Liabilities'"
      ],
      "metadata": {
        "id": "SFl1rv5PH5zI"
      }
    },
    {
      "cell_type": "code",
      "source": [
        "train_data['Net Capital'] = train_data['Total Assets']-train_data['Liabilities']"
      ],
      "metadata": {
        "execution": {
          "iopub.status.busy": "2024-04-13T06:22:26.792213Z",
          "iopub.execute_input": "2024-04-13T06:22:26.79272Z",
          "iopub.status.idle": "2024-04-13T06:22:26.800722Z",
          "shell.execute_reply.started": "2024-04-13T06:22:26.792677Z",
          "shell.execute_reply": "2024-04-13T06:22:26.799186Z"
        },
        "trusted": true,
        "id": "HAs5XMD8H5zI"
      },
      "execution_count": 63,
      "outputs": []
    },
    {
      "cell_type": "code",
      "source": [
        "test_data['Net Capital'] = test_data['Total Assets']-test_data['Liabilities']"
      ],
      "metadata": {
        "execution": {
          "iopub.status.busy": "2024-04-13T06:22:27.093763Z",
          "iopub.execute_input": "2024-04-13T06:22:27.094284Z",
          "iopub.status.idle": "2024-04-13T06:22:27.103988Z",
          "shell.execute_reply.started": "2024-04-13T06:22:27.094241Z",
          "shell.execute_reply": "2024-04-13T06:22:27.102225Z"
        },
        "trusted": true,
        "id": "r0RGYtPLH5zJ"
      },
      "execution_count": 64,
      "outputs": []
    },
    {
      "cell_type": "markdown",
      "source": [
        "### Created another feature 'Leverage Ratio' as the ratio of 'Total Assets'/ 'Net capital'"
      ],
      "metadata": {
        "id": "DH3IJoCVH5zJ"
      }
    },
    {
      "cell_type": "code",
      "source": [
        "median_capital = train_data['Net Capital'].median()\n",
        "train_data['Leverage_Ratio'] = train_data.apply(lambda x: x['Total Assets'] / median_capital if x['Net Capital'] == 0 else x['Total Assets'] / x['Net Capital'], axis=1)"
      ],
      "metadata": {
        "execution": {
          "iopub.status.busy": "2024-04-13T06:22:27.681813Z",
          "iopub.execute_input": "2024-04-13T06:22:27.682545Z",
          "iopub.status.idle": "2024-04-13T06:22:27.752792Z",
          "shell.execute_reply.started": "2024-04-13T06:22:27.682485Z",
          "shell.execute_reply": "2024-04-13T06:22:27.75106Z"
        },
        "trusted": true,
        "id": "jG536yzsH5zJ"
      },
      "execution_count": 65,
      "outputs": []
    },
    {
      "cell_type": "code",
      "source": [
        "median_capital = test_data['Net Capital'].median()\n",
        "test_data['Leverage_Ratio'] = test_data.apply(lambda x: x['Total Assets'] / median_capital if x['Net Capital'] == 0 else x['Total Assets'] / x['Net Capital'], axis=1)"
      ],
      "metadata": {
        "execution": {
          "iopub.status.busy": "2024-04-13T06:22:27.98168Z",
          "iopub.execute_input": "2024-04-13T06:22:27.982407Z",
          "iopub.status.idle": "2024-04-13T06:22:28.033699Z",
          "shell.execute_reply.started": "2024-04-13T06:22:27.982346Z",
          "shell.execute_reply": "2024-04-13T06:22:28.032247Z"
        },
        "trusted": true,
        "id": "lAKwsbMCH5zJ"
      },
      "execution_count": 66,
      "outputs": []
    },
    {
      "cell_type": "markdown",
      "source": [
        "### Grouped the states into various regions"
      ],
      "metadata": {
        "id": "_16bggSoH5zJ"
      }
    },
    {
      "cell_type": "code",
      "source": [
        "unique_values = sorted(train_data['state'].unique())\n",
        "print(unique_values)"
      ],
      "metadata": {
        "execution": {
          "iopub.status.busy": "2024-04-13T06:22:28.643102Z",
          "iopub.execute_input": "2024-04-13T06:22:28.643619Z",
          "iopub.status.idle": "2024-04-13T06:22:28.652577Z",
          "shell.execute_reply.started": "2024-04-13T06:22:28.643577Z",
          "shell.execute_reply": "2024-04-13T06:22:28.65108Z"
        },
        "trusted": true,
        "id": "Ev3AN9xzH5zJ",
        "outputId": "64ab16bf-5a51-4346-ed0c-0fda7366403c",
        "colab": {
          "base_uri": "https://localhost:8080/"
        }
      },
      "execution_count": 67,
      "outputs": [
        {
          "output_type": "stream",
          "name": "stdout",
          "text": [
            "['ANDHRA PRADESH', 'ARUNACHAL PRADESH', 'ASSAM', 'BIHAR', 'CHHATTISGARH', 'DELHI', 'GOA', 'GUJARAT', 'HARYANA', 'HIMACHAL PRADESH', 'JHARKHAND', 'KARNATAKA', 'KERALA', 'MADHYA PRADESH', 'MAHARASHTRA', 'MANIPUR', 'MEGHALAYA', 'NAGALAND', 'ODISHA', 'PUDUCHERRY', 'PUNJAB', 'RAJASTHAN', 'SIKKIM', 'TAMIL NADU', 'TRIPURA', 'UTTAR PRADESH', 'UTTARAKHAND', 'WEST BENGAL']\n"
          ]
        }
      ]
    },
    {
      "cell_type": "code",
      "source": [
        "region_mapping = {\n",
        "    'North': ['JAMMU AND KASHMIR', 'HIMACHAL PRADESH', 'PUNJAB', 'HARYANA', 'UTTARAKHAND'],\n",
        "    'South': ['ANDHRA PRADESH', 'TELANGANA', 'KARNATAKA', 'KERALA', 'TAMIL NADU'],\n",
        "    'East': ['BIHAR', 'JHARKHAND', 'ODISHA', 'WEST BENGAL', 'SIKKIM'],\n",
        "    'West': ['RAJASTHAN', 'GUJARAT', 'GOA', 'MAHARASHTRA'],\n",
        "    'Central': ['MADHYA PRADESH', 'CHHATTISGARH', 'UTTAR PRADESH', 'DELHI'],\n",
        "    'North East': ['ASSAM', 'MEGHALAYA', 'TRIPURA', 'NAGALAND', 'MANIPUR', 'MIZORAM', 'ARUNACHAL PRADESH']\n",
        "}"
      ],
      "metadata": {
        "execution": {
          "iopub.status.busy": "2024-04-13T06:22:28.958045Z",
          "iopub.execute_input": "2024-04-13T06:22:28.958569Z",
          "iopub.status.idle": "2024-04-13T06:22:28.96856Z",
          "shell.execute_reply.started": "2024-04-13T06:22:28.958531Z",
          "shell.execute_reply": "2024-04-13T06:22:28.966999Z"
        },
        "trusted": true,
        "id": "yiR1xjbxH5zK"
      },
      "execution_count": 68,
      "outputs": []
    },
    {
      "cell_type": "markdown",
      "source": [
        "#### Performed one-hot encoding of these regions"
      ],
      "metadata": {
        "id": "7eaHLcSKH5zK"
      }
    },
    {
      "cell_type": "code",
      "source": [
        "train_data['Region'] = train_data['state'].map({state: region for region, states in region_mapping.items() for state in states})\n",
        "Regions_encoded = pd.get_dummies(train_data['Region'], prefix='Region')\n",
        "train_data = pd.concat([train_data, Regions_encoded], axis=1)\n",
        "train_data.drop('Region', axis=1, inplace=True)\n",
        "for col in Regions_encoded.columns:\n",
        "    train_data[col] = train_data[col].astype(int)"
      ],
      "metadata": {
        "execution": {
          "iopub.status.busy": "2024-04-13T06:22:30.050741Z",
          "iopub.execute_input": "2024-04-13T06:22:30.051247Z",
          "iopub.status.idle": "2024-04-13T06:22:32.150564Z",
          "shell.execute_reply.started": "2024-04-13T06:22:30.051208Z",
          "shell.execute_reply": "2024-04-13T06:22:32.148911Z"
        },
        "trusted": true,
        "id": "b5XDKuHlH5zK"
      },
      "execution_count": 69,
      "outputs": []
    },
    {
      "cell_type": "code",
      "source": [
        "test_data['Region'] = test_data['state'].map({state: region for region, states in region_mapping.items() for state in states})\n",
        "Regions_encoded = pd.get_dummies(test_data['Region'], prefix='Region')\n",
        "test_data = pd.concat([test_data, Regions_encoded], axis=1)\n",
        "test_data.drop('Region', axis=1, inplace=True)\n",
        "for col in Regions_encoded.columns:\n",
        "    test_data[col] = test_data[col].astype(int)"
      ],
      "metadata": {
        "trusted": true,
        "id": "Ahh4qnovH5zL"
      },
      "execution_count": 70,
      "outputs": []
    },
    {
      "cell_type": "markdown",
      "source": [
        "### Grouped Constituencies into three categories: 'SC Constituency', 'ST Constituency' and 'General Constituency'"
      ],
      "metadata": {
        "id": "GgBSoGVIH5za"
      }
    },
    {
      "cell_type": "code",
      "source": [
        "def extract_constituency_type(constituency):\n",
        "    match = re.search(r'\\((\\w+)\\)$', constituency)\n",
        "    if match:\n",
        "        constituency_type = match.group(1)\n",
        "        if constituency_type == 'ST':\n",
        "            return 1, 0, 0\n",
        "        elif constituency_type == 'SC':\n",
        "            return 0, 1, 0\n",
        "    return 0, 0, 1"
      ],
      "metadata": {
        "trusted": true,
        "id": "T4BDHdAoH5zb"
      },
      "execution_count": 71,
      "outputs": []
    },
    {
      "cell_type": "code",
      "source": [
        "train_data['ST_Constituency'], train_data['SC_Constituency'], train_data['General_Constituency'] = zip(*train_data['Constituency ∇'].apply(extract_constituency_type))"
      ],
      "metadata": {
        "trusted": true,
        "id": "muG46ZCsH5zb"
      },
      "execution_count": 72,
      "outputs": []
    },
    {
      "cell_type": "code",
      "source": [
        "test_data['ST_Constituency'], test_data['SC_Constituency'], test_data['General_Constituency'] = zip(*test_data['Constituency ∇'].apply(extract_constituency_type))"
      ],
      "metadata": {
        "trusted": true,
        "id": "9xwvsaWgH5zb"
      },
      "execution_count": 73,
      "outputs": []
    },
    {
      "cell_type": "markdown",
      "source": [
        "### Grouping of Parties according to National v/s Regional"
      ],
      "metadata": {
        "id": "4N1pLbaqH5zc"
      }
    },
    {
      "cell_type": "code",
      "source": [
        "unique_values = sorted(train_data['Party'].unique())\n",
        "print(unique_values)"
      ],
      "metadata": {
        "trusted": true,
        "id": "8OO-YCJXH5zc",
        "colab": {
          "base_uri": "https://localhost:8080/"
        },
        "outputId": "f1dd0f95-af41-4d0d-98f5-ed2b81e45b4f"
      },
      "execution_count": 74,
      "outputs": [
        {
          "output_type": "stream",
          "name": "stdout",
          "text": [
            "['AAP', 'AIADMK', 'AITC', 'BJD', 'BJP', 'CPI', 'CPI(M)', 'DMK', 'INC', 'IND', 'JD(S)', 'JD(U)', 'JMM', 'NCP', 'NDPP', 'NPP', 'RJD', 'SHS', 'SP', 'Sikkim Krantikari Morcha', 'TDP', 'Tipra Motha Party', 'YSRCP']\n"
          ]
        }
      ]
    },
    {
      "cell_type": "code",
      "source": [
        "party_groups = {\n",
        "    'Regional' :['AAP', 'AIADMK', 'AITC', 'BJD', 'DMK', 'JD(S)', 'JD(U)', 'JMM', 'NDPP', 'NPP', 'RJD', 'SHS', 'SP', 'Sikkim Krantikari Morcha', 'TDP', 'Tipra Motha Party', 'YSRCP'],\n",
        "    'National' : ['BJP', 'CPI', 'CPI(M)', 'INC', 'IND', 'NCP']\n",
        "}"
      ],
      "metadata": {
        "trusted": true,
        "id": "Q_scuFcbH5zc"
      },
      "execution_count": 75,
      "outputs": []
    },
    {
      "cell_type": "code",
      "source": [
        "train_data['Party_Type'] = train_data['Party'].apply(lambda x: 0 if x in party_groups['National'] else 1)"
      ],
      "metadata": {
        "id": "vu-hjQplKc9D"
      },
      "execution_count": 76,
      "outputs": []
    },
    {
      "cell_type": "code",
      "source": [
        "test_data['Party_Type'] = test_data['Party'].apply(lambda x: 0 if x in party_groups['National'] else 1)"
      ],
      "metadata": {
        "trusted": true,
        "id": "5aAc8yuwH5zc"
      },
      "execution_count": 77,
      "outputs": []
    },
    {
      "cell_type": "markdown",
      "source": [
        "### To find if there is any criminal case by that candidate"
      ],
      "metadata": {
        "id": "GibLdzlgH5zc"
      }
    },
    {
      "cell_type": "code",
      "source": [
        "train_data['Criminal_Case_Present'] = train_data['Criminal Case'].apply(lambda x: 1 if x > 0 else 0)"
      ],
      "metadata": {
        "trusted": true,
        "id": "BIvtCA_xH5zc"
      },
      "execution_count": 78,
      "outputs": []
    },
    {
      "cell_type": "code",
      "source": [
        "test_data['Criminal_Case_Present'] = test_data['Criminal Case'].apply(lambda x: 1 if x > 0 else 0)"
      ],
      "metadata": {
        "trusted": true,
        "id": "v4YXqLG8H5zd"
      },
      "execution_count": 79,
      "outputs": []
    },
    {
      "cell_type": "markdown",
      "source": [
        "# Finding Correlation of a column with 'Education' column"
      ],
      "metadata": {
        "id": "uzoHnehrH5zd"
      }
    },
    {
      "cell_type": "code",
      "source": [
        "label_encoder = LabelEncoder()\n",
        "train_data['Education_Encoded'] = label_encoder.fit_transform(train_data['Education'])\n",
        "train_data_corr = train_data.drop(['Party', 'state', 'Education', 'Constituency ∇'], axis=1)\n",
        "correlation = train_data_corr.corrwith(train_data_corr['Education_Encoded'])\n",
        "correlation_sorted = correlation.abs().sort_values(ascending=False)\n",
        "print(correlation_sorted)"
      ],
      "metadata": {
        "trusted": true,
        "id": "Re5yBnDDH5zd",
        "colab": {
          "base_uri": "https://localhost:8080/"
        },
        "outputId": "c725b473-eaf1-4d38-8fae-627b0a217e57"
      },
      "execution_count": 80,
      "outputs": [
        {
          "output_type": "stream",
          "name": "stdout",
          "text": [
            "Education_Encoded    1.000000\n",
            "UTTAR PRADESH        0.100315\n",
            "Region_Central       0.098486\n",
            "Doctor               0.092563\n",
            "MAHARASHTRA          0.077860\n",
            "                       ...   \n",
            "Region_North         0.002724\n",
            "JD(U)                0.002420\n",
            "YSRCP                0.001979\n",
            "HIMACHAL PRADESH     0.001928\n",
            "Net Capital          0.000446\n",
            "Length: 70, dtype: float64\n"
          ]
        }
      ]
    },
    {
      "cell_type": "code",
      "source": [
        "print(\"Top 15 correlated columns are:\")\n",
        "print(correlation_sorted[1:16])\n",
        "train_data.drop(['Education_Encoded'], axis=1, inplace=True)"
      ],
      "metadata": {
        "trusted": true,
        "id": "cY_nfpJuH5zd",
        "colab": {
          "base_uri": "https://localhost:8080/"
        },
        "outputId": "434f5079-e8f6-4a99-b75e-cefe6b9cef96"
      },
      "execution_count": 81,
      "outputs": [
        {
          "output_type": "stream",
          "name": "stdout",
          "text": [
            "Top 15 correlated columns are:\n",
            "UTTAR PRADESH        0.100315\n",
            "Region_Central       0.098486\n",
            "Doctor               0.092563\n",
            "MAHARASHTRA          0.077860\n",
            "SHS                  0.076779\n",
            "JMM                  0.069881\n",
            "Region_West          0.066995\n",
            "GUJARAT              0.064532\n",
            "JHARKHAND            0.057861\n",
            "NDPP                 0.054552\n",
            "Tipra Motha Party    0.053749\n",
            "NAGALAND             0.050284\n",
            "BIHAR                0.048069\n",
            "Advocate             0.046559\n",
            "INC                  0.044707\n",
            "dtype: float64\n"
          ]
        }
      ]
    },
    {
      "cell_type": "markdown",
      "source": [
        "# Plotting various features"
      ],
      "metadata": {
        "id": "DOAlXwv6H5zd"
      }
    },
    {
      "cell_type": "code",
      "source": [
        "total_candidates_per_party = train_data.groupby('Party').size()\n",
        "candidates_with_criminal_records_per_party = train_data[train_data['Criminal Case'] > 0].groupby('Party').size()\n",
        "percentage_distribution = (candidates_with_criminal_records_per_party / total_candidates_per_party) * 100\n",
        "percentage_distribution = percentage_distribution.reset_index(name='Percentage')\n",
        "\n",
        "plt.figure(figsize=(10, 6))\n",
        "sns.barplot(x='Party', y='Percentage', data=percentage_distribution, palette='Blues_d')\n",
        "plt.title('Percentage Distribution of Parties with Candidates having the Most Criminal Records')\n",
        "plt.xlabel('Party')\n",
        "plt.ylabel('Percentage')\n",
        "plt.xticks(rotation=45, ha='right')\n",
        "plt.grid(axis='y', linestyle='--', alpha=0.7)\n",
        "plt.tight_layout()\n",
        "plt.show()"
      ],
      "metadata": {
        "trusted": true,
        "id": "5r1332BWH5zd",
        "colab": {
          "base_uri": "https://localhost:8080/",
          "height": 714
        },
        "outputId": "1a9ecb76-5988-4d4c-d9f8-a5c083d991a2"
      },
      "execution_count": 82,
      "outputs": [
        {
          "output_type": "stream",
          "name": "stderr",
          "text": [
            "<ipython-input-82-ecc76cdbf44f>:7: FutureWarning: \n",
            "\n",
            "Passing `palette` without assigning `hue` is deprecated and will be removed in v0.14.0. Assign the `x` variable to `hue` and set `legend=False` for the same effect.\n",
            "\n",
            "  sns.barplot(x='Party', y='Percentage', data=percentage_distribution, palette='Blues_d')\n"
          ]
        },
        {
          "output_type": "display_data",
          "data": {
            "text/plain": [
              "<Figure size 1000x600 with 1 Axes>"
            ],
            "image/png": "[encoded data removed]"
          },
          "metadata": {}
        }
      ]
    },
    {
      "cell_type": "code",
      "source": [
        "total_candidates_per_party = train_data.groupby('Party').size()\n",
        "candidates_wealth_per_party = train_data[train_data['Total Assets'] > 0].groupby('Party').size()\n",
        "percentage_distribution = (candidates_wealth_per_party / total_candidates_per_party) * 100\n",
        "percentage_distribution = percentage_distribution.reset_index(name='Percentage wrt Total Assets')\n",
        "\n",
        "plt.figure(figsize=(10, 6))\n",
        "sns.barplot(x='Party', y='Percentage wrt Total Assets', data=percentage_distribution, palette='Blues_d')\n",
        "plt.title('Percentage Distribution of Parties with Candidates Wealth')\n",
        "plt.xlabel('Party')\n",
        "plt.ylabel('Percentage wrt Total Assets')\n",
        "plt.xticks(rotation=45, ha='right')\n",
        "plt.grid(axis='y', linestyle='--', alpha=0.7)\n",
        "plt.tight_layout()\n",
        "plt.show()"
      ],
      "metadata": {
        "trusted": true,
        "id": "GK5YqNKEH5zd",
        "colab": {
          "base_uri": "https://localhost:8080/",
          "height": 714
        },
        "outputId": "14f54e9c-4f40-49aa-a7ee-6d57f1c69894"
      },
      "execution_count": 83,
      "outputs": [
        {
          "output_type": "stream",
          "name": "stderr",
          "text": [
            "<ipython-input-83-96bb4a0a60db>:7: FutureWarning: \n",
            "\n",
            "Passing `palette` without assigning `hue` is deprecated and will be removed in v0.14.0. Assign the `x` variable to `hue` and set `legend=False` for the same effect.\n",
            "\n",
            "  sns.barplot(x='Party', y='Percentage wrt Total Assets', data=percentage_distribution, palette='Blues_d')\n"
          ]
        },
        {
          "output_type": "display_data",
          "data": {
            "text/plain": [
              "<Figure size 1000x600 with 1 Axes>"
            ],
            "image/png": "[encoded data removed]"
          },
          "metadata": {}
        }
      ]
    },
    {
      "cell_type": "code",
      "source": [
        "plt.figure(figsize=(12, 6))\n",
        "\n",
        "sns.countplot(x='state', hue='Education', data=train_data, palette='viridis')\n",
        "\n",
        "plt.xticks(rotation=45, ha='right')\n",
        "\n",
        "plt.title('Education Level Distribution by State')\n",
        "plt.xlabel('State')\n",
        "plt.ylabel('Count')\n",
        "plt.tight_layout()\n",
        "plt.show()"
      ],
      "metadata": {
        "trusted": true,
        "id": "Cw6g5mreH5zd",
        "colab": {
          "base_uri": "https://localhost:8080/",
          "height": 570
        },
        "outputId": "7aab426a-ba6b-4e41-a835-5e3f2bae9860"
      },
      "execution_count": 84,
      "outputs": [
        {
          "output_type": "display_data",
          "data": {
            "text/plain": [
              "<Figure size 1200x600 with 1 Axes>"
            ],
            "image/png": "[encoded data removed]"
          },
          "metadata": {}
        }
      ]
    },
    {
      "cell_type": "code",
      "source": [
        "new_df = train_data.melt(id_vars='Education', value_vars=['ST_Constituency', 'SC_Constituency', 'General_Constituency'],\n",
        "                             var_name='Constituency_Type', value_name='Presence')\n",
        "\n",
        "new_df = new_df[new_df['Presence'] == 1]\n",
        "\n",
        "fig, axes = plt.subplots(1, 3, figsize=(24, 8))\n",
        "\n",
        "for ax, constituency_type in zip(axes, ['ST', 'SC', 'General']):\n",
        "    education_counts = new_df[new_df['Constituency_Type'] == f'{constituency_type}_Constituency']['Education'].value_counts()\n",
        "    ax.pie(education_counts, labels=education_counts.index, autopct='%1.1f%%', startangle=90)\n",
        "    ax.set_title(f'Education Level Distribution in {constituency_type} Constituency')\n",
        "plt.tight_layout()\n",
        "plt.show()"
      ],
      "metadata": {
        "trusted": true,
        "id": "Gba8SrYxH5ze",
        "colab": {
          "base_uri": "https://localhost:8080/",
          "height": 360
        },
        "outputId": "3cee65eb-ce31-4b9e-c9c4-680539cebe0d"
      },
      "execution_count": 85,
      "outputs": [
        {
          "output_type": "display_data",
          "data": {
            "text/plain": [
              "<Figure size 2400x800 with 3 Axes>"
            ],
            "image/png": "[encoded data removed]"
          },
          "metadata": {}
        }
      ]
    },
    {
      "cell_type": "code",
      "source": [
        "plt.figure(figsize=(10, 6))\n",
        "sns.barplot(x='Education', y='Criminal Case', data=train_data, palette='Set1')\n",
        "plt.title('Criminal Cases versus Education Level')\n",
        "plt.xlabel('Education Level')\n",
        "plt.ylabel('Criminal Cases')\n",
        "plt.xticks(rotation=45)\n",
        "plt.grid(axis='y', linestyle='--', alpha=0.7)\n",
        "plt.tight_layout()\n",
        "plt.show()"
      ],
      "metadata": {
        "trusted": true,
        "id": "3KLGf4EGH5ze",
        "colab": {
          "base_uri": "https://localhost:8080/",
          "height": 714
        },
        "outputId": "31602ac6-1074-41a8-a4fa-591ab2913e93"
      },
      "execution_count": 86,
      "outputs": [
        {
          "output_type": "stream",
          "name": "stderr",
          "text": [
            "<ipython-input-86-4773432c425f>:2: FutureWarning: \n",
            "\n",
            "Passing `palette` without assigning `hue` is deprecated and will be removed in v0.14.0. Assign the `x` variable to `hue` and set `legend=False` for the same effect.\n",
            "\n",
            "  sns.barplot(x='Education', y='Criminal Case', data=train_data, palette='Set1')\n"
          ]
        },
        {
          "output_type": "display_data",
          "data": {
            "text/plain": [
              "<Figure size 1000x600 with 1 Axes>"
            ],
            "image/png": "[encoded data removed]"
          },
          "metadata": {}
        }
      ]
    },
    {
      "cell_type": "code",
      "source": [
        "candidates_with_10_or_more_cases = train_data[train_data['Criminal Case'] >= 10]\n",
        "party_counts = candidates_with_10_or_more_cases['Party'].value_counts()\n",
        "\n",
        "plt.figure(figsize=(8, 8))\n",
        "plt.pie(party_counts, labels=party_counts.index, autopct='%1.1f%%', startangle=140)\n",
        "plt.title('Candidates with 10 or More Criminal Cases by Party')\n",
        "plt.axis('equal')\n",
        "plt.show()\n"
      ],
      "metadata": {
        "colab": {
          "base_uri": "https://localhost:8080/",
          "height": 675
        },
        "id": "7h_HVOh0Im6a",
        "outputId": "c4aba2ce-d8c3-4aff-9630-f171d70eb350"
      },
      "execution_count": 87,
      "outputs": [
        {
          "output_type": "display_data",
          "data": {
            "text/plain": [
              "<Figure size 800x800 with 1 Axes>"
            ],
            "image/png": "[encoded data removed]"
          },
          "metadata": {}
        }
      ]
    },
    {
      "cell_type": "markdown",
      "source": [
        "#### Removing unnecessary columns"
      ],
      "metadata": {
        "id": "2sPgQZIO4WFk"
      }
    },
    {
      "cell_type": "code",
      "source": [
        "X = train_data.drop(['Party', 'state', 'Education', 'Constituency ∇'], axis=1)\n",
        "y = train_data['Education']\n",
        "\n",
        "test_data.drop(['Party', 'state', 'Constituency ∇'], axis=1, inplace=True)"
      ],
      "metadata": {
        "trusted": true,
        "id": "BndYD49NH5ze"
      },
      "execution_count": 88,
      "outputs": []
    },
    {
      "cell_type": "markdown",
      "source": [
        "# Finding Outliers"
      ],
      "metadata": {
        "id": "f7LtdNH0H5ze"
      }
    },
    {
      "cell_type": "code",
      "source": [
        "z_scores = stats.zscore(X)\n",
        "threshold = 3\n",
        "outliers = (abs(z_scores) > threshold).any(axis=1)\n",
        "outliers_ = X[outliers]\n",
        "print(outliers_)"
      ],
      "metadata": {
        "trusted": true,
        "id": "FdQmRkHlH5ze",
        "colab": {
          "base_uri": "https://localhost:8080/"
        },
        "outputId": "df94916b-d5a9-4a64-b409-d1deb4991219"
      },
      "execution_count": 89,
      "outputs": [
        {
          "output_type": "stream",
          "name": "stdout",
          "text": [
            "      Criminal Case  Total Assets  Liabilities  Advocate  Doctor  \\\n",
            "0                 4  2.110000e+09   20000000.0         0       0   \n",
            "1                 0  1.000000e+07          0.0         0       0   \n",
            "2                 0  7.000000e+07    2200000.0         0       1   \n",
            "3                 0  9.000000e+07    2400000.0         0       0   \n",
            "4                 2  2.000000e+07    6100000.0         0       0   \n",
            "...             ...           ...          ...       ...     ...   \n",
            "2054              1  6.100000e+06    1000000.0         0       0   \n",
            "2055              0  2.000000e+07     800000.0         0       0   \n",
            "2056              0  1.300000e+08    8500000.0         0       1   \n",
            "2057              1  2.500000e+08    9400000.0         0       0   \n",
            "2058              0  1.100000e+06          0.0         0       0   \n",
            "\n",
            "      ANDHRA PRADESH  ARUNACHAL PRADESH  ASSAM  BIHAR  CHHATTISGARH  ...  \\\n",
            "0                  0                  0      0      0             0  ...   \n",
            "1                  0                  0      0      0             0  ...   \n",
            "2                  0                  0      0      0             0  ...   \n",
            "3                  0                  0      0      1             0  ...   \n",
            "4                  0                  0      0      0             0  ...   \n",
            "...              ...                ...    ...    ...           ...  ...   \n",
            "2054               0                  0      0      0             0  ...   \n",
            "2055               0                  0      0      0             0  ...   \n",
            "2056               0                  0      0      0             0  ...   \n",
            "2057               0                  0      0      0             0  ...   \n",
            "2058               0                  1      0      0             0  ...   \n",
            "\n",
            "      Region_East  Region_North  Region_North East  Region_South  Region_West  \\\n",
            "0               0             0                  0             1            0   \n",
            "1               0             0                  0             0            0   \n",
            "2               0             0                  0             1            0   \n",
            "3               1             0                  0             0            0   \n",
            "4               1             0                  0             0            0   \n",
            "...           ...           ...                ...           ...          ...   \n",
            "2054            0             0                  0             1            0   \n",
            "2055            0             0                  0             0            1   \n",
            "2056            0             0                  0             0            0   \n",
            "2057            0             0                  0             0            1   \n",
            "2058            0             0                  1             0            0   \n",
            "\n",
            "      ST_Constituency  SC_Constituency  General_Constituency  Party_Type  \\\n",
            "0                   0                0                     1           1   \n",
            "1                   0                1                     0           0   \n",
            "2                   0                0                     1           0   \n",
            "3                   0                0                     1           0   \n",
            "4                   0                1                     0           0   \n",
            "...               ...              ...                   ...         ...   \n",
            "2054                0                0                     1           0   \n",
            "2055                0                0                     1           0   \n",
            "2056                0                0                     1           0   \n",
            "2057                0                0                     1           0   \n",
            "2058                0                0                     1           0   \n",
            "\n",
            "      Criminal_Case_Present  \n",
            "0                         1  \n",
            "1                         0  \n",
            "2                         0  \n",
            "3                         0  \n",
            "4                         1  \n",
            "...                     ...  \n",
            "2054                      1  \n",
            "2055                      0  \n",
            "2056                      0  \n",
            "2057                      1  \n",
            "2058                      0  \n",
            "\n",
            "[1905 rows x 69 columns]\n"
          ]
        }
      ]
    },
    {
      "cell_type": "code",
      "source": [
        "train_data = train_data[abs(z_scores) <= threshold]"
      ],
      "metadata": {
        "trusted": true,
        "id": "fjyBFs7NH5zf"
      },
      "execution_count": 90,
      "outputs": []
    },
    {
      "cell_type": "markdown",
      "source": [
        "# SMOTE for over sampling"
      ],
      "metadata": {
        "id": "Q9hFXYLxH5zg"
      }
    },
    {
      "cell_type": "code",
      "source": [
        "from imblearn.over_sampling import SMOTE\n",
        "\n",
        "desired_samples = {'Graduate': 1500, 'Post Graduate': 1300, '12th Pass':1000,\n",
        "                     'Graduate Professional':1300, '10th Pass':1000, '8th Pass':400, 'Doctorate':400}\n",
        "\n",
        "smote = SMOTE(sampling_strategy=desired_samples)\n",
        "\n",
        "X_new, y_new = smote.fit_resample(X, y)\n",
        "X= pd.DataFrame(X_new, columns=X.columns)\n",
        "y = y_new\n",
        "\n",
        "print(y.value_counts())"
      ],
      "metadata": {
        "trusted": true,
        "id": "buBXokHyH5zg",
        "colab": {
          "base_uri": "https://localhost:8080/"
        },
        "outputId": "6d9bb1da-7d3f-4e24-bc73-a65b3e6fd038"
      },
      "execution_count": 91,
      "outputs": [
        {
          "output_type": "stream",
          "name": "stdout",
          "text": [
            "Education\n",
            "Graduate                 1500\n",
            "Post Graduate            1300\n",
            "Graduate Professional    1300\n",
            "12th Pass                1000\n",
            "10th Pass                1000\n",
            "8th Pass                  400\n",
            "Doctorate                 400\n",
            "Others                     28\n",
            "Literate                   14\n",
            "5th Pass                    9\n",
            "Name: count, dtype: int64\n"
          ]
        },
        {
          "output_type": "stream",
          "name": "stderr",
          "text": [
            "/usr/local/lib/python3.10/dist-packages/imblearn/utils/_validation.py:313: UserWarning: After over-sampling, the number of samples (1500) in class Graduate will be larger than the number of samples in the majority class (class #Graduate -> 531)\n",
            "  warnings.warn(\n",
            "/usr/local/lib/python3.10/dist-packages/imblearn/utils/_validation.py:313: UserWarning: After over-sampling, the number of samples (1300) in class Post Graduate will be larger than the number of samples in the majority class (class #Graduate -> 531)\n",
            "  warnings.warn(\n",
            "/usr/local/lib/python3.10/dist-packages/imblearn/utils/_validation.py:313: UserWarning: After over-sampling, the number of samples (1000) in class 12th Pass will be larger than the number of samples in the majority class (class #Graduate -> 531)\n",
            "  warnings.warn(\n",
            "/usr/local/lib/python3.10/dist-packages/imblearn/utils/_validation.py:313: UserWarning: After over-sampling, the number of samples (1300) in class Graduate Professional will be larger than the number of samples in the majority class (class #Graduate -> 531)\n",
            "  warnings.warn(\n",
            "/usr/local/lib/python3.10/dist-packages/imblearn/utils/_validation.py:313: UserWarning: After over-sampling, the number of samples (1000) in class 10th Pass will be larger than the number of samples in the majority class (class #Graduate -> 531)\n",
            "  warnings.warn(\n"
          ]
        }
      ]
    },
    {
      "cell_type": "markdown",
      "source": [
        "# Selecting the K best features (Dimensionality Reduction)"
      ],
      "metadata": {
        "id": "zjh0mewPH5zf"
      }
    },
    {
      "cell_type": "code",
      "source": [
        "k = 40\n",
        "selector = SelectKBest(score_func=f_classif, k=k)\n",
        "\n",
        "X_selected = selector.fit_transform(X,y)\n",
        "\n",
        "selected_indices = selector.get_support(indices=True)\n",
        "selected_features = X.columns[selected_indices]\n",
        "\n",
        "print(\"Selected features:\")\n",
        "print(selected_features)\n",
        "\n",
        "X = pd.DataFrame(X_selected, columns=selected_features)\n",
        "test_data = test_data[selected_features]"
      ],
      "metadata": {
        "colab": {
          "base_uri": "https://localhost:8080/"
        },
        "id": "rMc01rv53W3B",
        "outputId": "3a43ffaa-f932-4b37-d4e7-3972a130ba54"
      },
      "execution_count": 92,
      "outputs": [
        {
          "output_type": "stream",
          "name": "stdout",
          "text": [
            "Selected features:\n",
            "Index(['Criminal Case', 'Total Assets', 'Advocate', 'Doctor', 'ANDHRA PRADESH',\n",
            "       'ARUNACHAL PRADESH', 'ASSAM', 'BIHAR', 'CHHATTISGARH', 'DELHI', 'GOA',\n",
            "       'GUJARAT', 'KARNATAKA', 'MADHYA PRADESH', 'MAHARASHTRA', 'NAGALAND',\n",
            "       'PUNJAB', 'RAJASTHAN', 'SIKKIM', 'TAMIL NADU', 'UTTAR PRADESH', 'AAP',\n",
            "       'BJP', 'CPI', 'DMK', 'INC', 'NPP', 'SHS', 'SP',\n",
            "       'Sikkim Krantikari Morcha', 'Net Capital', 'Region_Central',\n",
            "       'Region_East', 'Region_North East', 'Region_South', 'Region_West',\n",
            "       'ST_Constituency', 'SC_Constituency', 'General_Constituency',\n",
            "       'Party_Type'],\n",
            "      dtype='object')\n"
          ]
        }
      ]
    },
    {
      "cell_type": "code",
      "source": [
        "X_train, X_test, y_train, y_test = train_test_split(X, y, test_size=0.13, random_state=48)"
      ],
      "metadata": {
        "trusted": true,
        "id": "6tAZrXmlH5zg"
      },
      "execution_count": 93,
      "outputs": []
    },
    {
      "cell_type": "code",
      "source": [
        "# X_train.drop(['Liabilities','NDPP','TDP','JD(S)','Sikkim Krantikari Morcha','CPI','Tipra Motha Party'], axis=1, inplace=True)\n",
        "# X_test.drop(['Liabilities','NDPP','TDP','JD(S)','Sikkim Krantikari Morcha','CPI','Tipra Motha Party'], axis=1, inplace=True)\n",
        "# test_data.drop(['Liabilities','NDPP','TDP','JD(S)','Sikkim Krantikari Morcha','CPI','Tipra Motha Party'], axis=1, inplace=True)"
      ],
      "metadata": {
        "id": "SgRIQiblDys0"
      },
      "execution_count": null,
      "outputs": []
    },
    {
      "cell_type": "markdown",
      "source": [
        "# Printing to check data"
      ],
      "metadata": {
        "id": "zqLTdwvEH5zh"
      }
    },
    {
      "cell_type": "code",
      "source": [
        "X.head()"
      ],
      "metadata": {
        "trusted": true,
        "id": "udi5V5zbH5zh",
        "colab": {
          "base_uri": "https://localhost:8080/",
          "height": 273
        },
        "outputId": "68e3d518-8e03-4943-b057-6ece30379023"
      },
      "execution_count": 95,
      "outputs": [
        {
          "output_type": "execute_result",
          "data": {
            "text/plain": [
              "   Criminal Case  Total Assets  Advocate  Doctor  ANDHRA PRADESH  \\\n",
              "0            4.0  2.110000e+09       0.0     0.0             0.0   \n",
              "1            0.0  1.000000e+07       0.0     0.0             0.0   \n",
              "2            0.0  7.000000e+07       0.0     1.0             0.0   \n",
              "3            0.0  9.000000e+07       0.0     0.0             0.0   \n",
              "4            2.0  2.000000e+07       0.0     0.0             0.0   \n",
              "\n",
              "   ARUNACHAL PRADESH  ASSAM  BIHAR  CHHATTISGARH  DELHI  ...   Net Capital  \\\n",
              "0                0.0    0.0    0.0           0.0    0.0  ...  2.090000e+09   \n",
              "1                0.0    0.0    0.0           0.0    0.0  ...  1.000000e+07   \n",
              "2                0.0    0.0    0.0           0.0    0.0  ...  6.780000e+07   \n",
              "3                0.0    0.0    1.0           0.0    0.0  ...  8.760000e+07   \n",
              "4                0.0    0.0    0.0           0.0    0.0  ...  1.390000e+07   \n",
              "\n",
              "   Region_Central  Region_East  Region_North East  Region_South  Region_West  \\\n",
              "0             0.0          0.0                0.0           1.0          0.0   \n",
              "1             1.0          0.0                0.0           0.0          0.0   \n",
              "2             0.0          0.0                0.0           1.0          0.0   \n",
              "3             0.0          1.0                0.0           0.0          0.0   \n",
              "4             0.0          1.0                0.0           0.0          0.0   \n",
              "\n",
              "   ST_Constituency  SC_Constituency  General_Constituency  Party_Type  \n",
              "0              0.0              0.0                   1.0         1.0  \n",
              "1              0.0              1.0                   0.0         0.0  \n",
              "2              0.0              0.0                   1.0         0.0  \n",
              "3              0.0              0.0                   1.0         0.0  \n",
              "4              0.0              1.0                   0.0         0.0  \n",
              "\n",
              "[5 rows x 40 columns]"
            ],
            "text/html": [
              "\n",
              "  <div id=\"df-7a7e5b45-aad6-4f7c-b318-90eda76f781c\" class=\"colab-df-container\">\n",
              "    <div>\n",
              "<style scoped>\n",
              "    .dataframe tbody tr th:only-of-type {\n",
              "        vertical-align: middle;\n",
              "    }\n",
              "\n",
              "    .dataframe tbody tr th {\n",
              "        vertical-align: top;\n",
              "    }\n",
              "\n",
              "    .dataframe thead th {\n",
              "        text-align: right;\n",
              "    }\n",
              "</style>\n",
              "<table border=\"1\" class=\"dataframe\">\n",
              "  <thead>\n",
              "    <tr style=\"text-align: right;\">\n",
              "      <th></th>\n",
              "      <th>Criminal Case</th>\n",
              "      <th>Total Assets</th>\n",
              "      <th>Advocate</th>\n",
              "      <th>Doctor</th>\n",
              "      <th>ANDHRA PRADESH</th>\n",
              "      <th>ARUNACHAL PRADESH</th>\n",
              "      <th>ASSAM</th>\n",
              "      <th>BIHAR</th>\n",
              "      <th>CHHATTISGARH</th>\n",
              "      <th>DELHI</th>\n",
              "      <th>...</th>\n",
              "      <th>Net Capital</th>\n",
              "      <th>Region_Central</th>\n",
              "      <th>Region_East</th>\n",
              "      <th>Region_North East</th>\n",
              "      <th>Region_South</th>\n",
              "      <th>Region_West</th>\n",
              "      <th>ST_Constituency</th>\n",
              "      <th>SC_Constituency</th>\n",
              "      <th>General_Constituency</th>\n",
              "      <th>Party_Type</th>\n",
              "    </tr>\n",
              "  </thead>\n",
              "  <tbody>\n",
              "    <tr>\n",
              "      <th>0</th>\n",
              "      <td>4.0</td>\n",
              "      <td>2.110000e+09</td>\n",
              "      <td>0.0</td>\n",
              "      <td>0.0</td>\n",
              "      <td>0.0</td>\n",
              "      <td>0.0</td>\n",
              "      <td>0.0</td>\n",
              "      <td>0.0</td>\n",
              "      <td>0.0</td>\n",
              "      <td>0.0</td>\n",
              "      <td>...</td>\n",
              "      <td>2.090000e+09</td>\n",
              "      <td>0.0</td>\n",
              "      <td>0.0</td>\n",
              "      <td>0.0</td>\n",
              "      <td>1.0</td>\n",
              "      <td>0.0</td>\n",
              "      <td>0.0</td>\n",
              "      <td>0.0</td>\n",
              "      <td>1.0</td>\n",
              "      <td>1.0</td>\n",
              "    </tr>\n",
              "    <tr>\n",
              "      <th>1</th>\n",
              "      <td>0.0</td>\n",
              "      <td>1.000000e+07</td>\n",
              "      <td>0.0</td>\n",
              "      <td>0.0</td>\n",
              "      <td>0.0</td>\n",
              "      <td>0.0</td>\n",
              "      <td>0.0</td>\n",
              "      <td>0.0</td>\n",
              "      <td>0.0</td>\n",
              "      <td>0.0</td>\n",
              "      <td>...</td>\n",
              "      <td>1.000000e+07</td>\n",
              "      <td>1.0</td>\n",
              "      <td>0.0</td>\n",
              "      <td>0.0</td>\n",
              "      <td>0.0</td>\n",
              "      <td>0.0</td>\n",
              "      <td>0.0</td>\n",
              "      <td>1.0</td>\n",
              "      <td>0.0</td>\n",
              "      <td>0.0</td>\n",
              "    </tr>\n",
              "    <tr>\n",
              "      <th>2</th>\n",
              "      <td>0.0</td>\n",
              "      <td>7.000000e+07</td>\n",
              "      <td>0.0</td>\n",
              "      <td>1.0</td>\n",
              "      <td>0.0</td>\n",
              "      <td>0.0</td>\n",
              "      <td>0.0</td>\n",
              "      <td>0.0</td>\n",
              "      <td>0.0</td>\n",
              "      <td>0.0</td>\n",
              "      <td>...</td>\n",
              "      <td>6.780000e+07</td>\n",
              "      <td>0.0</td>\n",
              "      <td>0.0</td>\n",
              "      <td>0.0</td>\n",
              "      <td>1.0</td>\n",
              "      <td>0.0</td>\n",
              "      <td>0.0</td>\n",
              "      <td>0.0</td>\n",
              "      <td>1.0</td>\n",
              "      <td>0.0</td>\n",
              "    </tr>\n",
              "    <tr>\n",
              "      <th>3</th>\n",
              "      <td>0.0</td>\n",
              "      <td>9.000000e+07</td>\n",
              "      <td>0.0</td>\n",
              "      <td>0.0</td>\n",
              "      <td>0.0</td>\n",
              "      <td>0.0</td>\n",
              "      <td>0.0</td>\n",
              "      <td>1.0</td>\n",
              "      <td>0.0</td>\n",
              "      <td>0.0</td>\n",
              "      <td>...</td>\n",
              "      <td>8.760000e+07</td>\n",
              "      <td>0.0</td>\n",
              "      <td>1.0</td>\n",
              "      <td>0.0</td>\n",
              "      <td>0.0</td>\n",
              "      <td>0.0</td>\n",
              "      <td>0.0</td>\n",
              "      <td>0.0</td>\n",
              "      <td>1.0</td>\n",
              "      <td>0.0</td>\n",
              "    </tr>\n",
              "    <tr>\n",
              "      <th>4</th>\n",
              "      <td>2.0</td>\n",
              "      <td>2.000000e+07</td>\n",
              "      <td>0.0</td>\n",
              "      <td>0.0</td>\n",
              "      <td>0.0</td>\n",
              "      <td>0.0</td>\n",
              "      <td>0.0</td>\n",
              "      <td>0.0</td>\n",
              "      <td>0.0</td>\n",
              "      <td>0.0</td>\n",
              "      <td>...</td>\n",
              "      <td>1.390000e+07</td>\n",
              "      <td>0.0</td>\n",
              "      <td>1.0</td>\n",
              "      <td>0.0</td>\n",
              "      <td>0.0</td>\n",
              "      <td>0.0</td>\n",
              "      <td>0.0</td>\n",
              "      <td>1.0</td>\n",
              "      <td>0.0</td>\n",
              "      <td>0.0</td>\n",
              "    </tr>\n",
              "  </tbody>\n",
              "</table>\n",
              "<p>5 rows × 40 columns</p>\n",
              "</div>\n",
              "    <div class=\"colab-df-buttons\">\n",
              "\n",
              "  <div class=\"colab-df-container\">\n",
              "    <button class=\"colab-df-convert\" onclick=\"convertToInteractive('df-7a7e5b45-aad6-4f7c-b318-90eda76f781c')\"\n",
              "            title=\"Convert this dataframe to an interactive table.\"\n",
              "            style=\"display:none;\">\n",
              "\n",
              "  <svg xmlns=\"http://www.w3.org/2000/svg\" height=\"24px\" viewBox=\"0 -960 960 960\">\n",
              "    <path d=\"M120-120v-720h720v720H120Zm60-500h600v-160H180v160Zm220 220h160v-160H400v160Zm0 220h160v-160H400v160ZM180-400h160v-160H180v160Zm440 0h160v-160H620v160ZM180-180h160v-160H180v160Zm440 0h160v-160H620v160Z\"/>\n",
              "  </svg>\n",
              "    </button>\n",
              "\n",
              "  <style>\n",
              "    .colab-df-container {\n",
              "      display:flex;\n",
              "      gap: 12px;\n",
              "    }\n",
              "\n",
              "    .colab-df-convert {\n",
              "      background-color: #E8F0FE;\n",
              "      border: none;\n",
              "      border-radius: 50%;\n",
              "      cursor: pointer;\n",
              "      display: none;\n",
              "      fill: #1967D2;\n",
              "      height: 32px;\n",
              "      padding: 0 0 0 0;\n",
              "      width: 32px;\n",
              "    }\n",
              "\n",
              "    .colab-df-convert:hover {\n",
              "      background-color: #E2EBFA;\n",
              "      box-shadow: 0px 1px 2px rgba(60, 64, 67, 0.3), 0px 1px 3px 1px rgba(60, 64, 67, 0.15);\n",
              "      fill: #174EA6;\n",
              "    }\n",
              "\n",
              "    .colab-df-buttons div {\n",
              "      margin-bottom: 4px;\n",
              "    }\n",
              "\n",
              "    [theme=dark] .colab-df-convert {\n",
              "      background-color: #3B4455;\n",
              "      fill: #D2E3FC;\n",
              "    }\n",
              "\n",
              "    [theme=dark] .colab-df-convert:hover {\n",
              "      background-color: #434B5C;\n",
              "      box-shadow: 0px 1px 3px 1px rgba(0, 0, 0, 0.15);\n",
              "      filter: drop-shadow(0px 1px 2px rgba(0, 0, 0, 0.3));\n",
              "      fill: #FFFFFF;\n",
              "    }\n",
              "  </style>\n",
              "\n",
              "    <script>\n",
              "      const buttonEl =\n",
              "        document.querySelector('#df-7a7e5b45-aad6-4f7c-b318-90eda76f781c button.colab-df-convert');\n",
              "      buttonEl.style.display =\n",
              "        google.colab.kernel.accessAllowed ? 'block' : 'none';\n",
              "\n",
              "      async function convertToInteractive(key) {\n",
              "        const element = document.querySelector('#df-7a7e5b45-aad6-4f7c-b318-90eda76f781c');\n",
              "        const dataTable =\n",
              "          await google.colab.kernel.invokeFunction('convertToInteractive',\n",
              "                                                    [key], {});\n",
              "        if (!dataTable) return;\n",
              "\n",
              "        const docLinkHtml = 'Like what you see? Visit the ' +\n",
              "          '<a target=\"_blank\" href=https://colab.research.google.com/notebooks/data_table.ipynb>data table notebook</a>'\n",
              "          + ' to learn more about interactive tables.';\n",
              "        element.innerHTML = '';\n",
              "        dataTable['output_type'] = 'display_data';\n",
              "        await google.colab.output.renderOutput(dataTable, element);\n",
              "        const docLink = document.createElement('div');\n",
              "        docLink.innerHTML = docLinkHtml;\n",
              "        element.appendChild(docLink);\n",
              "      }\n",
              "    </script>\n",
              "  </div>\n",
              "\n",
              "\n",
              "<div id=\"df-6b2b77fe-7593-4f41-9b87-81ec1858e002\">\n",
              "  <button class=\"colab-df-quickchart\" onclick=\"quickchart('df-6b2b77fe-7593-4f41-9b87-81ec1858e002')\"\n",
              "            title=\"Suggest charts\"\n",
              "            style=\"display:none;\">\n",
              "\n",
              "<svg xmlns=\"http://www.w3.org/2000/svg\" height=\"24px\"viewBox=\"0 0 24 24\"\n",
              "     width=\"24px\">\n",
              "    <g>\n",
              "        <path d=\"M19 3H5c-1.1 0-2 .9-2 2v14c0 1.1.9 2 2 2h14c1.1 0 2-.9 2-2V5c0-1.1-.9-2-2-2zM9 17H7v-7h2v7zm4 0h-2V7h2v10zm4 0h-2v-4h2v4z\"/>\n",
              "    </g>\n",
              "</svg>\n",
              "  </button>\n",
              "\n",
              "<style>\n",
              "  .colab-df-quickchart {\n",
              "      --bg-color: #E8F0FE;\n",
              "      --fill-color: #1967D2;\n",
              "      --hover-bg-color: #E2EBFA;\n",
              "      --hover-fill-color: #174EA6;\n",
              "      --disabled-fill-color: #AAA;\n",
              "      --disabled-bg-color: #DDD;\n",
              "  }\n",
              "\n",
              "  [theme=dark] .colab-df-quickchart {\n",
              "      --bg-color: #3B4455;\n",
              "      --fill-color: #D2E3FC;\n",
              "      --hover-bg-color: #434B5C;\n",
              "      --hover-fill-color: #FFFFFF;\n",
              "      --disabled-bg-color: #3B4455;\n",
              "      --disabled-fill-color: #666;\n",
              "  }\n",
              "\n",
              "  .colab-df-quickchart {\n",
              "    background-color: var(--bg-color);\n",
              "    border: none;\n",
              "    border-radius: 50%;\n",
              "    cursor: pointer;\n",
              "    display: none;\n",
              "    fill: var(--fill-color);\n",
              "    height: 32px;\n",
              "    padding: 0;\n",
              "    width: 32px;\n",
              "  }\n",
              "\n",
              "  .colab-df-quickchart:hover {\n",
              "    background-color: var(--hover-bg-color);\n",
              "    box-shadow: 0 1px 2px rgba(60, 64, 67, 0.3), 0 1px 3px 1px rgba(60, 64, 67, 0.15);\n",
              "    fill: var(--button-hover-fill-color);\n",
              "  }\n",
              "\n",
              "  .colab-df-quickchart-complete:disabled,\n",
              "  .colab-df-quickchart-complete:disabled:hover {\n",
              "    background-color: var(--disabled-bg-color);\n",
              "    fill: var(--disabled-fill-color);\n",
              "    box-shadow: none;\n",
              "  }\n",
              "\n",
              "  .colab-df-spinner {\n",
              "    border: 2px solid var(--fill-color);\n",
              "    border-color: transparent;\n",
              "    border-bottom-color: var(--fill-color);\n",
              "    animation:\n",
              "      spin 1s steps(1) infinite;\n",
              "  }\n",
              "\n",
              "  @keyframes spin {\n",
              "    0% {\n",
              "      border-color: transparent;\n",
              "      border-bottom-color: var(--fill-color);\n",
              "      border-left-color: var(--fill-color);\n",
              "    }\n",
              "    20% {\n",
              "      border-color: transparent;\n",
              "      border-left-color: var(--fill-color);\n",
              "      border-top-color: var(--fill-color);\n",
              "    }\n",
              "    30% {\n",
              "      border-color: transparent;\n",
              "      border-left-color: var(--fill-color);\n",
              "      border-top-color: var(--fill-color);\n",
              "      border-right-color: var(--fill-color);\n",
              "    }\n",
              "    40% {\n",
              "      border-color: transparent;\n",
              "      border-right-color: var(--fill-color);\n",
              "      border-top-color: var(--fill-color);\n",
              "    }\n",
              "    60% {\n",
              "      border-color: transparent;\n",
              "      border-right-color: var(--fill-color);\n",
              "    }\n",
              "    80% {\n",
              "      border-color: transparent;\n",
              "      border-right-color: var(--fill-color);\n",
              "      border-bottom-color: var(--fill-color);\n",
              "    }\n",
              "    90% {\n",
              "      border-color: transparent;\n",
              "      border-bottom-color: var(--fill-color);\n",
              "    }\n",
              "  }\n",
              "</style>\n",
              "\n",
              "  <script>\n",
              "    async function quickchart(key) {\n",
              "      const quickchartButtonEl =\n",
              "        document.querySelector('#' + key + ' button');\n",
              "      quickchartButtonEl.disabled = true;  // To prevent multiple clicks.\n",
              "      quickchartButtonEl.classList.add('colab-df-spinner');\n",
              "      try {\n",
              "        const charts = await google.colab.kernel.invokeFunction(\n",
              "            'suggestCharts', [key], {});\n",
              "      } catch (error) {\n",
              "        console.error('Error during call to suggestCharts:', error);\n",
              "      }\n",
              "      quickchartButtonEl.classList.remove('colab-df-spinner');\n",
              "      quickchartButtonEl.classList.add('colab-df-quickchart-complete');\n",
              "    }\n",
              "    (() => {\n",
              "      let quickchartButtonEl =\n",
              "        document.querySelector('#df-6b2b77fe-7593-4f41-9b87-81ec1858e002 button');\n",
              "      quickchartButtonEl.style.display =\n",
              "        google.colab.kernel.accessAllowed ? 'block' : 'none';\n",
              "    })();\n",
              "  </script>\n",
              "</div>\n",
              "\n",
              "    </div>\n",
              "  </div>\n"
            ],
            "application/vnd.google.colaboratory.intrinsic+json": {
              "type": "dataframe",
              "variable_name": "X"
            }
          },
          "metadata": {},
          "execution_count": 95
        }
      ]
    },
    {
      "cell_type": "code",
      "source": [
        "X_train.head()"
      ],
      "metadata": {
        "trusted": true,
        "id": "gY2Ba_14H5zh",
        "colab": {
          "base_uri": "https://localhost:8080/",
          "height": 273
        },
        "outputId": "52c12689-87c5-4f9c-81d4-4c5bccee4e4f"
      },
      "execution_count": 96,
      "outputs": [
        {
          "output_type": "execute_result",
          "data": {
            "text/plain": [
              "      Criminal Case  Total Assets  Advocate  Doctor  ANDHRA PRADESH  \\\n",
              "6175            0.0    10000000.0       0.0     0.0             0.0   \n",
              "5166            0.0    20000000.0       0.0     0.0             0.0   \n",
              "6154            1.0    20000000.0       0.0     0.0             0.0   \n",
              "3032            1.0    10000000.0       0.0     0.0             0.0   \n",
              "3307            0.0           0.0       0.0     0.0             0.0   \n",
              "\n",
              "      ARUNACHAL PRADESH  ASSAM  BIHAR  CHHATTISGARH  DELHI  ...   Net Capital  \\\n",
              "6175                0.0    0.0    0.0           0.0    0.0  ...  9.800000e+06   \n",
              "5166                0.0    0.0    0.0           0.0    0.0  ...  1.081769e+07   \n",
              "6154                0.0    0.0    0.0           0.0    0.0  ...  2.000000e+07   \n",
              "3032                0.0    0.0    0.0           0.0    0.0  ...  9.558114e+06   \n",
              "3307                0.0    0.0    0.0           0.0    0.0  ... -1.200000e+06   \n",
              "\n",
              "      Region_Central  Region_East  Region_North East  Region_South  \\\n",
              "6175             0.0          1.0                0.0           0.0   \n",
              "5166             0.0          0.0                0.0           0.0   \n",
              "6154             1.0          0.0                0.0           0.0   \n",
              "3032             0.0          0.0                0.0           0.0   \n",
              "3307             1.0          0.0                0.0           0.0   \n",
              "\n",
              "      Region_West  ST_Constituency  SC_Constituency  General_Constituency  \\\n",
              "6175          0.0              0.0              0.0                   1.0   \n",
              "5166          0.0              0.0              0.0                   1.0   \n",
              "6154          0.0              0.0              0.0                   1.0   \n",
              "3032          0.0              0.0              0.0                   0.0   \n",
              "3307          0.0              0.0              0.0                   0.0   \n",
              "\n",
              "      Party_Type  \n",
              "6175         0.0  \n",
              "5166         0.0  \n",
              "6154         0.0  \n",
              "3032         1.0  \n",
              "3307         0.0  \n",
              "\n",
              "[5 rows x 40 columns]"
            ],
            "text/html": [
              "\n",
              "  <div id=\"df-9d703fe1-4bf3-453d-8e7d-f1cd9eee74ad\" class=\"colab-df-container\">\n",
              "    <div>\n",
              "<style scoped>\n",
              "    .dataframe tbody tr th:only-of-type {\n",
              "        vertical-align: middle;\n",
              "    }\n",
              "\n",
              "    .dataframe tbody tr th {\n",
              "        vertical-align: top;\n",
              "    }\n",
              "\n",
              "    .dataframe thead th {\n",
              "        text-align: right;\n",
              "    }\n",
              "</style>\n",
              "<table border=\"1\" class=\"dataframe\">\n",
              "  <thead>\n",
              "    <tr style=\"text-align: right;\">\n",
              "      <th></th>\n",
              "      <th>Criminal Case</th>\n",
              "      <th>Total Assets</th>\n",
              "      <th>Advocate</th>\n",
              "      <th>Doctor</th>\n",
              "      <th>ANDHRA PRADESH</th>\n",
              "      <th>ARUNACHAL PRADESH</th>\n",
              "      <th>ASSAM</th>\n",
              "      <th>BIHAR</th>\n",
              "      <th>CHHATTISGARH</th>\n",
              "      <th>DELHI</th>\n",
              "      <th>...</th>\n",
              "      <th>Net Capital</th>\n",
              "      <th>Region_Central</th>\n",
              "      <th>Region_East</th>\n",
              "      <th>Region_North East</th>\n",
              "      <th>Region_South</th>\n",
              "      <th>Region_West</th>\n",
              "      <th>ST_Constituency</th>\n",
              "      <th>SC_Constituency</th>\n",
              "      <th>General_Constituency</th>\n",
              "      <th>Party_Type</th>\n",
              "    </tr>\n",
              "  </thead>\n",
              "  <tbody>\n",
              "    <tr>\n",
              "      <th>6175</th>\n",
              "      <td>0.0</td>\n",
              "      <td>10000000.0</td>\n",
              "      <td>0.0</td>\n",
              "      <td>0.0</td>\n",
              "      <td>0.0</td>\n",
              "      <td>0.0</td>\n",
              "      <td>0.0</td>\n",
              "      <td>0.0</td>\n",
              "      <td>0.0</td>\n",
              "      <td>0.0</td>\n",
              "      <td>...</td>\n",
              "      <td>9.800000e+06</td>\n",
              "      <td>0.0</td>\n",
              "      <td>1.0</td>\n",
              "      <td>0.0</td>\n",
              "      <td>0.0</td>\n",
              "      <td>0.0</td>\n",
              "      <td>0.0</td>\n",
              "      <td>0.0</td>\n",
              "      <td>1.0</td>\n",
              "      <td>0.0</td>\n",
              "    </tr>\n",
              "    <tr>\n",
              "      <th>5166</th>\n",
              "      <td>0.0</td>\n",
              "      <td>20000000.0</td>\n",
              "      <td>0.0</td>\n",
              "      <td>0.0</td>\n",
              "      <td>0.0</td>\n",
              "      <td>0.0</td>\n",
              "      <td>0.0</td>\n",
              "      <td>0.0</td>\n",
              "      <td>0.0</td>\n",
              "      <td>0.0</td>\n",
              "      <td>...</td>\n",
              "      <td>1.081769e+07</td>\n",
              "      <td>0.0</td>\n",
              "      <td>0.0</td>\n",
              "      <td>0.0</td>\n",
              "      <td>0.0</td>\n",
              "      <td>0.0</td>\n",
              "      <td>0.0</td>\n",
              "      <td>0.0</td>\n",
              "      <td>1.0</td>\n",
              "      <td>0.0</td>\n",
              "    </tr>\n",
              "    <tr>\n",
              "      <th>6154</th>\n",
              "      <td>1.0</td>\n",
              "      <td>20000000.0</td>\n",
              "      <td>0.0</td>\n",
              "      <td>0.0</td>\n",
              "      <td>0.0</td>\n",
              "      <td>0.0</td>\n",
              "      <td>0.0</td>\n",
              "      <td>0.0</td>\n",
              "      <td>0.0</td>\n",
              "      <td>0.0</td>\n",
              "      <td>...</td>\n",
              "      <td>2.000000e+07</td>\n",
              "      <td>1.0</td>\n",
              "      <td>0.0</td>\n",
              "      <td>0.0</td>\n",
              "      <td>0.0</td>\n",
              "      <td>0.0</td>\n",
              "      <td>0.0</td>\n",
              "      <td>0.0</td>\n",
              "      <td>1.0</td>\n",
              "      <td>0.0</td>\n",
              "    </tr>\n",
              "    <tr>\n",
              "      <th>3032</th>\n",
              "      <td>1.0</td>\n",
              "      <td>10000000.0</td>\n",
              "      <td>0.0</td>\n",
              "      <td>0.0</td>\n",
              "      <td>0.0</td>\n",
              "      <td>0.0</td>\n",
              "      <td>0.0</td>\n",
              "      <td>0.0</td>\n",
              "      <td>0.0</td>\n",
              "      <td>0.0</td>\n",
              "      <td>...</td>\n",
              "      <td>9.558114e+06</td>\n",
              "      <td>0.0</td>\n",
              "      <td>0.0</td>\n",
              "      <td>0.0</td>\n",
              "      <td>0.0</td>\n",
              "      <td>0.0</td>\n",
              "      <td>0.0</td>\n",
              "      <td>0.0</td>\n",
              "      <td>0.0</td>\n",
              "      <td>1.0</td>\n",
              "    </tr>\n",
              "    <tr>\n",
              "      <th>3307</th>\n",
              "      <td>0.0</td>\n",
              "      <td>0.0</td>\n",
              "      <td>0.0</td>\n",
              "      <td>0.0</td>\n",
              "      <td>0.0</td>\n",
              "      <td>0.0</td>\n",
              "      <td>0.0</td>\n",
              "      <td>0.0</td>\n",
              "      <td>0.0</td>\n",
              "      <td>0.0</td>\n",
              "      <td>...</td>\n",
              "      <td>-1.200000e+06</td>\n",
              "      <td>1.0</td>\n",
              "      <td>0.0</td>\n",
              "      <td>0.0</td>\n",
              "      <td>0.0</td>\n",
              "      <td>0.0</td>\n",
              "      <td>0.0</td>\n",
              "      <td>0.0</td>\n",
              "      <td>0.0</td>\n",
              "      <td>0.0</td>\n",
              "    </tr>\n",
              "  </tbody>\n",
              "</table>\n",
              "<p>5 rows × 40 columns</p>\n",
              "</div>\n",
              "    <div class=\"colab-df-buttons\">\n",
              "\n",
              "  <div class=\"colab-df-container\">\n",
              "    <button class=\"colab-df-convert\" onclick=\"convertToInteractive('df-9d703fe1-4bf3-453d-8e7d-f1cd9eee74ad')\"\n",
              "            title=\"Convert this dataframe to an interactive table.\"\n",
              "            style=\"display:none;\">\n",
              "\n",
              "  <svg xmlns=\"http://www.w3.org/2000/svg\" height=\"24px\" viewBox=\"0 -960 960 960\">\n",
              "    <path d=\"M120-120v-720h720v720H120Zm60-500h600v-160H180v160Zm220 220h160v-160H400v160Zm0 220h160v-160H400v160ZM180-400h160v-160H180v160Zm440 0h160v-160H620v160ZM180-180h160v-160H180v160Zm440 0h160v-160H620v160Z\"/>\n",
              "  </svg>\n",
              "    </button>\n",
              "\n",
              "  <style>\n",
              "    .colab-df-container {\n",
              "      display:flex;\n",
              "      gap: 12px;\n",
              "    }\n",
              "\n",
              "    .colab-df-convert {\n",
              "      background-color: #E8F0FE;\n",
              "      border: none;\n",
              "      border-radius: 50%;\n",
              "      cursor: pointer;\n",
              "      display: none;\n",
              "      fill: #1967D2;\n",
              "      height: 32px;\n",
              "      padding: 0 0 0 0;\n",
              "      width: 32px;\n",
              "    }\n",
              "\n",
              "    .colab-df-convert:hover {\n",
              "      background-color: #E2EBFA;\n",
              "      box-shadow: 0px 1px 2px rgba(60, 64, 67, 0.3), 0px 1px 3px 1px rgba(60, 64, 67, 0.15);\n",
              "      fill: #174EA6;\n",
              "    }\n",
              "\n",
              "    .colab-df-buttons div {\n",
              "      margin-bottom: 4px;\n",
              "    }\n",
              "\n",
              "    [theme=dark] .colab-df-convert {\n",
              "      background-color: #3B4455;\n",
              "      fill: #D2E3FC;\n",
              "    }\n",
              "\n",
              "    [theme=dark] .colab-df-convert:hover {\n",
              "      background-color: #434B5C;\n",
              "      box-shadow: 0px 1px 3px 1px rgba(0, 0, 0, 0.15);\n",
              "      filter: drop-shadow(0px 1px 2px rgba(0, 0, 0, 0.3));\n",
              "      fill: #FFFFFF;\n",
              "    }\n",
              "  </style>\n",
              "\n",
              "    <script>\n",
              "      const buttonEl =\n",
              "        document.querySelector('#df-9d703fe1-4bf3-453d-8e7d-f1cd9eee74ad button.colab-df-convert');\n",
              "      buttonEl.style.display =\n",
              "        google.colab.kernel.accessAllowed ? 'block' : 'none';\n",
              "\n",
              "      async function convertToInteractive(key) {\n",
              "        const element = document.querySelector('#df-9d703fe1-4bf3-453d-8e7d-f1cd9eee74ad');\n",
              "        const dataTable =\n",
              "          await google.colab.kernel.invokeFunction('convertToInteractive',\n",
              "                                                    [key], {});\n",
              "        if (!dataTable) return;\n",
              "\n",
              "        const docLinkHtml = 'Like what you see? Visit the ' +\n",
              "          '<a target=\"_blank\" href=https://colab.research.google.com/notebooks/data_table.ipynb>data table notebook</a>'\n",
              "          + ' to learn more about interactive tables.';\n",
              "        element.innerHTML = '';\n",
              "        dataTable['output_type'] = 'display_data';\n",
              "        await google.colab.output.renderOutput(dataTable, element);\n",
              "        const docLink = document.createElement('div');\n",
              "        docLink.innerHTML = docLinkHtml;\n",
              "        element.appendChild(docLink);\n",
              "      }\n",
              "    </script>\n",
              "  </div>\n",
              "\n",
              "\n",
              "<div id=\"df-da421067-da7a-47ed-898f-f83fe9ba58e9\">\n",
              "  <button class=\"colab-df-quickchart\" onclick=\"quickchart('df-da421067-da7a-47ed-898f-f83fe9ba58e9')\"\n",
              "            title=\"Suggest charts\"\n",
              "            style=\"display:none;\">\n",
              "\n",
              "<svg xmlns=\"http://www.w3.org/2000/svg\" height=\"24px\"viewBox=\"0 0 24 24\"\n",
              "     width=\"24px\">\n",
              "    <g>\n",
              "        <path d=\"M19 3H5c-1.1 0-2 .9-2 2v14c0 1.1.9 2 2 2h14c1.1 0 2-.9 2-2V5c0-1.1-.9-2-2-2zM9 17H7v-7h2v7zm4 0h-2V7h2v10zm4 0h-2v-4h2v4z\"/>\n",
              "    </g>\n",
              "</svg>\n",
              "  </button>\n",
              "\n",
              "<style>\n",
              "  .colab-df-quickchart {\n",
              "      --bg-color: #E8F0FE;\n",
              "      --fill-color: #1967D2;\n",
              "      --hover-bg-color: #E2EBFA;\n",
              "      --hover-fill-color: #174EA6;\n",
              "      --disabled-fill-color: #AAA;\n",
              "      --disabled-bg-color: #DDD;\n",
              "  }\n",
              "\n",
              "  [theme=dark] .colab-df-quickchart {\n",
              "      --bg-color: #3B4455;\n",
              "      --fill-color: #D2E3FC;\n",
              "      --hover-bg-color: #434B5C;\n",
              "      --hover-fill-color: #FFFFFF;\n",
              "      --disabled-bg-color: #3B4455;\n",
              "      --disabled-fill-color: #666;\n",
              "  }\n",
              "\n",
              "  .colab-df-quickchart {\n",
              "    background-color: var(--bg-color);\n",
              "    border: none;\n",
              "    border-radius: 50%;\n",
              "    cursor: pointer;\n",
              "    display: none;\n",
              "    fill: var(--fill-color);\n",
              "    height: 32px;\n",
              "    padding: 0;\n",
              "    width: 32px;\n",
              "  }\n",
              "\n",
              "  .colab-df-quickchart:hover {\n",
              "    background-color: var(--hover-bg-color);\n",
              "    box-shadow: 0 1px 2px rgba(60, 64, 67, 0.3), 0 1px 3px 1px rgba(60, 64, 67, 0.15);\n",
              "    fill: var(--button-hover-fill-color);\n",
              "  }\n",
              "\n",
              "  .colab-df-quickchart-complete:disabled,\n",
              "  .colab-df-quickchart-complete:disabled:hover {\n",
              "    background-color: var(--disabled-bg-color);\n",
              "    fill: var(--disabled-fill-color);\n",
              "    box-shadow: none;\n",
              "  }\n",
              "\n",
              "  .colab-df-spinner {\n",
              "    border: 2px solid var(--fill-color);\n",
              "    border-color: transparent;\n",
              "    border-bottom-color: var(--fill-color);\n",
              "    animation:\n",
              "      spin 1s steps(1) infinite;\n",
              "  }\n",
              "\n",
              "  @keyframes spin {\n",
              "    0% {\n",
              "      border-color: transparent;\n",
              "      border-bottom-color: var(--fill-color);\n",
              "      border-left-color: var(--fill-color);\n",
              "    }\n",
              "    20% {\n",
              "      border-color: transparent;\n",
              "      border-left-color: var(--fill-color);\n",
              "      border-top-color: var(--fill-color);\n",
              "    }\n",
              "    30% {\n",
              "      border-color: transparent;\n",
              "      border-left-color: var(--fill-color);\n",
              "      border-top-color: var(--fill-color);\n",
              "      border-right-color: var(--fill-color);\n",
              "    }\n",
              "    40% {\n",
              "      border-color: transparent;\n",
              "      border-right-color: var(--fill-color);\n",
              "      border-top-color: var(--fill-color);\n",
              "    }\n",
              "    60% {\n",
              "      border-color: transparent;\n",
              "      border-right-color: var(--fill-color);\n",
              "    }\n",
              "    80% {\n",
              "      border-color: transparent;\n",
              "      border-right-color: var(--fill-color);\n",
              "      border-bottom-color: var(--fill-color);\n",
              "    }\n",
              "    90% {\n",
              "      border-color: transparent;\n",
              "      border-bottom-color: var(--fill-color);\n",
              "    }\n",
              "  }\n",
              "</style>\n",
              "\n",
              "  <script>\n",
              "    async function quickchart(key) {\n",
              "      const quickchartButtonEl =\n",
              "        document.querySelector('#' + key + ' button');\n",
              "      quickchartButtonEl.disabled = true;  // To prevent multiple clicks.\n",
              "      quickchartButtonEl.classList.add('colab-df-spinner');\n",
              "      try {\n",
              "        const charts = await google.colab.kernel.invokeFunction(\n",
              "            'suggestCharts', [key], {});\n",
              "      } catch (error) {\n",
              "        console.error('Error during call to suggestCharts:', error);\n",
              "      }\n",
              "      quickchartButtonEl.classList.remove('colab-df-spinner');\n",
              "      quickchartButtonEl.classList.add('colab-df-quickchart-complete');\n",
              "    }\n",
              "    (() => {\n",
              "      let quickchartButtonEl =\n",
              "        document.querySelector('#df-da421067-da7a-47ed-898f-f83fe9ba58e9 button');\n",
              "      quickchartButtonEl.style.display =\n",
              "        google.colab.kernel.accessAllowed ? 'block' : 'none';\n",
              "    })();\n",
              "  </script>\n",
              "</div>\n",
              "\n",
              "    </div>\n",
              "  </div>\n"
            ],
            "application/vnd.google.colaboratory.intrinsic+json": {
              "type": "dataframe",
              "variable_name": "X_train"
            }
          },
          "metadata": {},
          "execution_count": 96
        }
      ]
    },
    {
      "cell_type": "code",
      "source": [
        "X_test.head()"
      ],
      "metadata": {
        "trusted": true,
        "id": "1JVdTXaNH5zh",
        "colab": {
          "base_uri": "https://localhost:8080/",
          "height": 273
        },
        "outputId": "3fe290c7-2618-44b4-b6eb-d7592bad823a"
      },
      "execution_count": 97,
      "outputs": [
        {
          "output_type": "execute_result",
          "data": {
            "text/plain": [
              "      Criminal Case  Total Assets  Advocate  Doctor  ANDHRA PRADESH  \\\n",
              "6403            1.0           0.0       0.0     0.0             0.0   \n",
              "4717            0.0    40000000.0       0.0     0.0             0.0   \n",
              "465             7.0   430000000.0       0.0     0.0             0.0   \n",
              "827            12.0    70000000.0       0.0     0.0             0.0   \n",
              "278             0.0           0.0       0.0     0.0             0.0   \n",
              "\n",
              "      ARUNACHAL PRADESH  ASSAM  BIHAR  CHHATTISGARH  DELHI  ...   Net Capital  \\\n",
              "6403                0.0    0.0    0.0           0.0    0.0  ... -6.676855e+06   \n",
              "4717                0.0    0.0    0.0           0.0    0.0  ...  3.149387e+07   \n",
              "465                 0.0    0.0    1.0           0.0    0.0  ...  3.700000e+08   \n",
              "827                 0.0    0.0    0.0           0.0    0.0  ...  6.000000e+07   \n",
              "278                 0.0    0.0    0.0           0.0    0.0  ... -1.400000e+06   \n",
              "\n",
              "      Region_Central  Region_East  Region_North East  Region_South  \\\n",
              "6403             0.0          0.0                0.0           0.0   \n",
              "4717             0.0          0.0                0.0           0.0   \n",
              "465              0.0          1.0                0.0           0.0   \n",
              "827              0.0          0.0                0.0           1.0   \n",
              "278              0.0          1.0                0.0           0.0   \n",
              "\n",
              "      Region_West  ST_Constituency  SC_Constituency  General_Constituency  \\\n",
              "6403          0.0              0.0              0.0                   1.0   \n",
              "4717          1.0              0.0              0.0                   1.0   \n",
              "465           0.0              0.0              0.0                   1.0   \n",
              "827           0.0              0.0              0.0                   1.0   \n",
              "278           0.0              0.0              1.0                   0.0   \n",
              "\n",
              "      Party_Type  \n",
              "6403         0.0  \n",
              "4717         0.0  \n",
              "465          0.0  \n",
              "827          1.0  \n",
              "278          0.0  \n",
              "\n",
              "[5 rows x 40 columns]"
            ],
            "text/html": [
              "\n",
              "  <div id=\"df-20554043-18bd-4b40-b822-07ce48abde96\" class=\"colab-df-container\">\n",
              "    <div>\n",
              "<style scoped>\n",
              "    .dataframe tbody tr th:only-of-type {\n",
              "        vertical-align: middle;\n",
              "    }\n",
              "\n",
              "    .dataframe tbody tr th {\n",
              "        vertical-align: top;\n",
              "    }\n",
              "\n",
              "    .dataframe thead th {\n",
              "        text-align: right;\n",
              "    }\n",
              "</style>\n",
              "<table border=\"1\" class=\"dataframe\">\n",
              "  <thead>\n",
              "    <tr style=\"text-align: right;\">\n",
              "      <th></th>\n",
              "      <th>Criminal Case</th>\n",
              "      <th>Total Assets</th>\n",
              "      <th>Advocate</th>\n",
              "      <th>Doctor</th>\n",
              "      <th>ANDHRA PRADESH</th>\n",
              "      <th>ARUNACHAL PRADESH</th>\n",
              "      <th>ASSAM</th>\n",
              "      <th>BIHAR</th>\n",
              "      <th>CHHATTISGARH</th>\n",
              "      <th>DELHI</th>\n",
              "      <th>...</th>\n",
              "      <th>Net Capital</th>\n",
              "      <th>Region_Central</th>\n",
              "      <th>Region_East</th>\n",
              "      <th>Region_North East</th>\n",
              "      <th>Region_South</th>\n",
              "      <th>Region_West</th>\n",
              "      <th>ST_Constituency</th>\n",
              "      <th>SC_Constituency</th>\n",
              "      <th>General_Constituency</th>\n",
              "      <th>Party_Type</th>\n",
              "    </tr>\n",
              "  </thead>\n",
              "  <tbody>\n",
              "    <tr>\n",
              "      <th>6403</th>\n",
              "      <td>1.0</td>\n",
              "      <td>0.0</td>\n",
              "      <td>0.0</td>\n",
              "      <td>0.0</td>\n",
              "      <td>0.0</td>\n",
              "      <td>0.0</td>\n",
              "      <td>0.0</td>\n",
              "      <td>0.0</td>\n",
              "      <td>0.0</td>\n",
              "      <td>0.0</td>\n",
              "      <td>...</td>\n",
              "      <td>-6.676855e+06</td>\n",
              "      <td>0.0</td>\n",
              "      <td>0.0</td>\n",
              "      <td>0.0</td>\n",
              "      <td>0.0</td>\n",
              "      <td>0.0</td>\n",
              "      <td>0.0</td>\n",
              "      <td>0.0</td>\n",
              "      <td>1.0</td>\n",
              "      <td>0.0</td>\n",
              "    </tr>\n",
              "    <tr>\n",
              "      <th>4717</th>\n",
              "      <td>0.0</td>\n",
              "      <td>40000000.0</td>\n",
              "      <td>0.0</td>\n",
              "      <td>0.0</td>\n",
              "      <td>0.0</td>\n",
              "      <td>0.0</td>\n",
              "      <td>0.0</td>\n",
              "      <td>0.0</td>\n",
              "      <td>0.0</td>\n",
              "      <td>0.0</td>\n",
              "      <td>...</td>\n",
              "      <td>3.149387e+07</td>\n",
              "      <td>0.0</td>\n",
              "      <td>0.0</td>\n",
              "      <td>0.0</td>\n",
              "      <td>0.0</td>\n",
              "      <td>1.0</td>\n",
              "      <td>0.0</td>\n",
              "      <td>0.0</td>\n",
              "      <td>1.0</td>\n",
              "      <td>0.0</td>\n",
              "    </tr>\n",
              "    <tr>\n",
              "      <th>465</th>\n",
              "      <td>7.0</td>\n",
              "      <td>430000000.0</td>\n",
              "      <td>0.0</td>\n",
              "      <td>0.0</td>\n",
              "      <td>0.0</td>\n",
              "      <td>0.0</td>\n",
              "      <td>0.0</td>\n",
              "      <td>1.0</td>\n",
              "      <td>0.0</td>\n",
              "      <td>0.0</td>\n",
              "      <td>...</td>\n",
              "      <td>3.700000e+08</td>\n",
              "      <td>0.0</td>\n",
              "      <td>1.0</td>\n",
              "      <td>0.0</td>\n",
              "      <td>0.0</td>\n",
              "      <td>0.0</td>\n",
              "      <td>0.0</td>\n",
              "      <td>0.0</td>\n",
              "      <td>1.0</td>\n",
              "      <td>0.0</td>\n",
              "    </tr>\n",
              "    <tr>\n",
              "      <th>827</th>\n",
              "      <td>12.0</td>\n",
              "      <td>70000000.0</td>\n",
              "      <td>0.0</td>\n",
              "      <td>0.0</td>\n",
              "      <td>0.0</td>\n",
              "      <td>0.0</td>\n",
              "      <td>0.0</td>\n",
              "      <td>0.0</td>\n",
              "      <td>0.0</td>\n",
              "      <td>0.0</td>\n",
              "      <td>...</td>\n",
              "      <td>6.000000e+07</td>\n",
              "      <td>0.0</td>\n",
              "      <td>0.0</td>\n",
              "      <td>0.0</td>\n",
              "      <td>1.0</td>\n",
              "      <td>0.0</td>\n",
              "      <td>0.0</td>\n",
              "      <td>0.0</td>\n",
              "      <td>1.0</td>\n",
              "      <td>1.0</td>\n",
              "    </tr>\n",
              "    <tr>\n",
              "      <th>278</th>\n",
              "      <td>0.0</td>\n",
              "      <td>0.0</td>\n",
              "      <td>0.0</td>\n",
              "      <td>0.0</td>\n",
              "      <td>0.0</td>\n",
              "      <td>0.0</td>\n",
              "      <td>0.0</td>\n",
              "      <td>0.0</td>\n",
              "      <td>0.0</td>\n",
              "      <td>0.0</td>\n",
              "      <td>...</td>\n",
              "      <td>-1.400000e+06</td>\n",
              "      <td>0.0</td>\n",
              "      <td>1.0</td>\n",
              "      <td>0.0</td>\n",
              "      <td>0.0</td>\n",
              "      <td>0.0</td>\n",
              "      <td>0.0</td>\n",
              "      <td>1.0</td>\n",
              "      <td>0.0</td>\n",
              "      <td>0.0</td>\n",
              "    </tr>\n",
              "  </tbody>\n",
              "</table>\n",
              "<p>5 rows × 40 columns</p>\n",
              "</div>\n",
              "    <div class=\"colab-df-buttons\">\n",
              "\n",
              "  <div class=\"colab-df-container\">\n",
              "    <button class=\"colab-df-convert\" onclick=\"convertToInteractive('df-20554043-18bd-4b40-b822-07ce48abde96')\"\n",
              "            title=\"Convert this dataframe to an interactive table.\"\n",
              "            style=\"display:none;\">\n",
              "\n",
              "  <svg xmlns=\"http://www.w3.org/2000/svg\" height=\"24px\" viewBox=\"0 -960 960 960\">\n",
              "    <path d=\"M120-120v-720h720v720H120Zm60-500h600v-160H180v160Zm220 220h160v-160H400v160Zm0 220h160v-160H400v160ZM180-400h160v-160H180v160Zm440 0h160v-160H620v160ZM180-180h160v-160H180v160Zm440 0h160v-160H620v160Z\"/>\n",
              "  </svg>\n",
              "    </button>\n",
              "\n",
              "  <style>\n",
              "    .colab-df-container {\n",
              "      display:flex;\n",
              "      gap: 12px;\n",
              "    }\n",
              "\n",
              "    .colab-df-convert {\n",
              "      background-color: #E8F0FE;\n",
              "      border: none;\n",
              "      border-radius: 50%;\n",
              "      cursor: pointer;\n",
              "      display: none;\n",
              "      fill: #1967D2;\n",
              "      height: 32px;\n",
              "      padding: 0 0 0 0;\n",
              "      width: 32px;\n",
              "    }\n",
              "\n",
              "    .colab-df-convert:hover {\n",
              "      background-color: #E2EBFA;\n",
              "      box-shadow: 0px 1px 2px rgba(60, 64, 67, 0.3), 0px 1px 3px 1px rgba(60, 64, 67, 0.15);\n",
              "      fill: #174EA6;\n",
              "    }\n",
              "\n",
              "    .colab-df-buttons div {\n",
              "      margin-bottom: 4px;\n",
              "    }\n",
              "\n",
              "    [theme=dark] .colab-df-convert {\n",
              "      background-color: #3B4455;\n",
              "      fill: #D2E3FC;\n",
              "    }\n",
              "\n",
              "    [theme=dark] .colab-df-convert:hover {\n",
              "      background-color: #434B5C;\n",
              "      box-shadow: 0px 1px 3px 1px rgba(0, 0, 0, 0.15);\n",
              "      filter: drop-shadow(0px 1px 2px rgba(0, 0, 0, 0.3));\n",
              "      fill: #FFFFFF;\n",
              "    }\n",
              "  </style>\n",
              "\n",
              "    <script>\n",
              "      const buttonEl =\n",
              "        document.querySelector('#df-20554043-18bd-4b40-b822-07ce48abde96 button.colab-df-convert');\n",
              "      buttonEl.style.display =\n",
              "        google.colab.kernel.accessAllowed ? 'block' : 'none';\n",
              "\n",
              "      async function convertToInteractive(key) {\n",
              "        const element = document.querySelector('#df-20554043-18bd-4b40-b822-07ce48abde96');\n",
              "        const dataTable =\n",
              "          await google.colab.kernel.invokeFunction('convertToInteractive',\n",
              "                                                    [key], {});\n",
              "        if (!dataTable) return;\n",
              "\n",
              "        const docLinkHtml = 'Like what you see? Visit the ' +\n",
              "          '<a target=\"_blank\" href=https://colab.research.google.com/notebooks/data_table.ipynb>data table notebook</a>'\n",
              "          + ' to learn more about interactive tables.';\n",
              "        element.innerHTML = '';\n",
              "        dataTable['output_type'] = 'display_data';\n",
              "        await google.colab.output.renderOutput(dataTable, element);\n",
              "        const docLink = document.createElement('div');\n",
              "        docLink.innerHTML = docLinkHtml;\n",
              "        element.appendChild(docLink);\n",
              "      }\n",
              "    </script>\n",
              "  </div>\n",
              "\n",
              "\n",
              "<div id=\"df-18bb3df4-3400-4546-82c2-2bceeaf827f0\">\n",
              "  <button class=\"colab-df-quickchart\" onclick=\"quickchart('df-18bb3df4-3400-4546-82c2-2bceeaf827f0')\"\n",
              "            title=\"Suggest charts\"\n",
              "            style=\"display:none;\">\n",
              "\n",
              "<svg xmlns=\"http://www.w3.org/2000/svg\" height=\"24px\"viewBox=\"0 0 24 24\"\n",
              "     width=\"24px\">\n",
              "    <g>\n",
              "        <path d=\"M19 3H5c-1.1 0-2 .9-2 2v14c0 1.1.9 2 2 2h14c1.1 0 2-.9 2-2V5c0-1.1-.9-2-2-2zM9 17H7v-7h2v7zm4 0h-2V7h2v10zm4 0h-2v-4h2v4z\"/>\n",
              "    </g>\n",
              "</svg>\n",
              "  </button>\n",
              "\n",
              "<style>\n",
              "  .colab-df-quickchart {\n",
              "      --bg-color: #E8F0FE;\n",
              "      --fill-color: #1967D2;\n",
              "      --hover-bg-color: #E2EBFA;\n",
              "      --hover-fill-color: #174EA6;\n",
              "      --disabled-fill-color: #AAA;\n",
              "      --disabled-bg-color: #DDD;\n",
              "  }\n",
              "\n",
              "  [theme=dark] .colab-df-quickchart {\n",
              "      --bg-color: #3B4455;\n",
              "      --fill-color: #D2E3FC;\n",
              "      --hover-bg-color: #434B5C;\n",
              "      --hover-fill-color: #FFFFFF;\n",
              "      --disabled-bg-color: #3B4455;\n",
              "      --disabled-fill-color: #666;\n",
              "  }\n",
              "\n",
              "  .colab-df-quickchart {\n",
              "    background-color: var(--bg-color);\n",
              "    border: none;\n",
              "    border-radius: 50%;\n",
              "    cursor: pointer;\n",
              "    display: none;\n",
              "    fill: var(--fill-color);\n",
              "    height: 32px;\n",
              "    padding: 0;\n",
              "    width: 32px;\n",
              "  }\n",
              "\n",
              "  .colab-df-quickchart:hover {\n",
              "    background-color: var(--hover-bg-color);\n",
              "    box-shadow: 0 1px 2px rgba(60, 64, 67, 0.3), 0 1px 3px 1px rgba(60, 64, 67, 0.15);\n",
              "    fill: var(--button-hover-fill-color);\n",
              "  }\n",
              "\n",
              "  .colab-df-quickchart-complete:disabled,\n",
              "  .colab-df-quickchart-complete:disabled:hover {\n",
              "    background-color: var(--disabled-bg-color);\n",
              "    fill: var(--disabled-fill-color);\n",
              "    box-shadow: none;\n",
              "  }\n",
              "\n",
              "  .colab-df-spinner {\n",
              "    border: 2px solid var(--fill-color);\n",
              "    border-color: transparent;\n",
              "    border-bottom-color: var(--fill-color);\n",
              "    animation:\n",
              "      spin 1s steps(1) infinite;\n",
              "  }\n",
              "\n",
              "  @keyframes spin {\n",
              "    0% {\n",
              "      border-color: transparent;\n",
              "      border-bottom-color: var(--fill-color);\n",
              "      border-left-color: var(--fill-color);\n",
              "    }\n",
              "    20% {\n",
              "      border-color: transparent;\n",
              "      border-left-color: var(--fill-color);\n",
              "      border-top-color: var(--fill-color);\n",
              "    }\n",
              "    30% {\n",
              "      border-color: transparent;\n",
              "      border-left-color: var(--fill-color);\n",
              "      border-top-color: var(--fill-color);\n",
              "      border-right-color: var(--fill-color);\n",
              "    }\n",
              "    40% {\n",
              "      border-color: transparent;\n",
              "      border-right-color: var(--fill-color);\n",
              "      border-top-color: var(--fill-color);\n",
              "    }\n",
              "    60% {\n",
              "      border-color: transparent;\n",
              "      border-right-color: var(--fill-color);\n",
              "    }\n",
              "    80% {\n",
              "      border-color: transparent;\n",
              "      border-right-color: var(--fill-color);\n",
              "      border-bottom-color: var(--fill-color);\n",
              "    }\n",
              "    90% {\n",
              "      border-color: transparent;\n",
              "      border-bottom-color: var(--fill-color);\n",
              "    }\n",
              "  }\n",
              "</style>\n",
              "\n",
              "  <script>\n",
              "    async function quickchart(key) {\n",
              "      const quickchartButtonEl =\n",
              "        document.querySelector('#' + key + ' button');\n",
              "      quickchartButtonEl.disabled = true;  // To prevent multiple clicks.\n",
              "      quickchartButtonEl.classList.add('colab-df-spinner');\n",
              "      try {\n",
              "        const charts = await google.colab.kernel.invokeFunction(\n",
              "            'suggestCharts', [key], {});\n",
              "      } catch (error) {\n",
              "        console.error('Error during call to suggestCharts:', error);\n",
              "      }\n",
              "      quickchartButtonEl.classList.remove('colab-df-spinner');\n",
              "      quickchartButtonEl.classList.add('colab-df-quickchart-complete');\n",
              "    }\n",
              "    (() => {\n",
              "      let quickchartButtonEl =\n",
              "        document.querySelector('#df-18bb3df4-3400-4546-82c2-2bceeaf827f0 button');\n",
              "      quickchartButtonEl.style.display =\n",
              "        google.colab.kernel.accessAllowed ? 'block' : 'none';\n",
              "    })();\n",
              "  </script>\n",
              "</div>\n",
              "\n",
              "    </div>\n",
              "  </div>\n"
            ],
            "application/vnd.google.colaboratory.intrinsic+json": {
              "type": "dataframe",
              "variable_name": "X_test"
            }
          },
          "metadata": {},
          "execution_count": 97
        }
      ]
    },
    {
      "cell_type": "code",
      "source": [
        "y_train.head()"
      ],
      "metadata": {
        "trusted": true,
        "id": "k8xzVL-gH5zh",
        "colab": {
          "base_uri": "https://localhost:8080/"
        },
        "outputId": "5a6cdfe1-643d-460f-d38e-fb6fbd843492"
      },
      "execution_count": 98,
      "outputs": [
        {
          "output_type": "execute_result",
          "data": {
            "text/plain": [
              "6175            Post Graduate\n",
              "5166    Graduate Professional\n",
              "6154            Post Graduate\n",
              "3032                12th Pass\n",
              "3307                12th Pass\n",
              "Name: Education, dtype: object"
            ]
          },
          "metadata": {},
          "execution_count": 98
        }
      ]
    },
    {
      "cell_type": "markdown",
      "source": [
        "# Scaling to improve prediction"
      ],
      "metadata": {
        "id": "6Yf9aAJrH5zi"
      }
    },
    {
      "cell_type": "code",
      "source": [
        "from sklearn.preprocessing import MinMaxScaler\n",
        "\n",
        "scaler = MinMaxScaler()\n",
        "\n",
        "scaler.fit(X_train)\n",
        "\n",
        "X_train = scaler.transform(X_train)\n",
        "X_test = scaler.transform(X_test)"
      ],
      "metadata": {
        "trusted": true,
        "id": "H377WrQzH5zi"
      },
      "execution_count": 99,
      "outputs": []
    },
    {
      "cell_type": "code",
      "source": [
        "from sklearn.preprocessing import StandardScaler\n",
        "\n",
        "scaler = StandardScaler()\n",
        "\n",
        "scaler.fit(X_train)\n",
        "\n",
        "X_train = scaler.transform(X_train)\n",
        "X_test = scaler.transform(X_test)"
      ],
      "metadata": {
        "trusted": true,
        "id": "UTyGH-mPH5zi"
      },
      "execution_count": 100,
      "outputs": []
    },
    {
      "cell_type": "markdown",
      "source": [
        "# Hyper-parameter tuning to find the best parameters for any given model"
      ],
      "metadata": {
        "id": "TPBzyUI2H5zi"
      }
    },
    {
      "cell_type": "markdown",
      "source": [
        "### Takes in input the model and its range of various parameters to check and find from the best parameters."
      ],
      "metadata": {
        "id": "0o9D2-q0H5zi"
      }
    },
    {
      "cell_type": "code",
      "source": [
        "def train_and_evaluate_model(model, params_grid, X_train, y_train, X_test, y_test, test_data):\n",
        "\n",
        "    grid_search = GridSearchCV(model, params_grid, cv=5, scoring='f1_weighted')\n",
        "    grid_search.fit(X_train, y_train)\n",
        "    best_parameters = grid_search.best_params_\n",
        "    print('Best parameters: ', best_parameters)\n",
        "\n",
        "    best_model = grid_search.best_estimator_\n",
        "    best_model.fit(X_train, y_train)\n",
        "\n",
        "    y_pred = best_model.predict(X_test)\n",
        "    report = classification_report(y_test, y_pred)\n",
        "    print(report)\n",
        "\n",
        "    conf_matrix = confusion_matrix(y_test, y_pred)\n",
        "    print(\"Confusion Matrix:\")\n",
        "    print(conf_matrix)\n",
        "\n",
        "    y_pred_test = best_model.predict(test_data)\n",
        "    df_submission = pd.DataFrame({'ID': range(len(y_pred_test)), 'Education': y_pred_test})\n",
        "    df_submission.to_csv('submission.csv', index=False)\n",
        "\n",
        "    return best_model"
      ],
      "metadata": {
        "trusted": true,
        "id": "acwcettgH5zi"
      },
      "execution_count": 101,
      "outputs": []
    },
    {
      "cell_type": "markdown",
      "source": [
        "# Decision Trees Classifier Model"
      ],
      "metadata": {
        "id": "5oYgznBCH5zi"
      }
    },
    {
      "cell_type": "code",
      "source": [
        "from sklearn.tree import DecisionTreeClassifier\n",
        "\n",
        "params_grid_DT = {\n",
        "    'criterion': ['gini', 'entropy'],\n",
        "    'splitter': ['best', 'random'],\n",
        "    'max_depth' : [9,10, 11, 12,13,14,15,16],\n",
        "}\n",
        "\n",
        "best_DT_model = train_and_evaluate_model(DecisionTreeClassifier(), params_grid_DT, X_train, y_train, X_test, y_test, test_data)"
      ],
      "metadata": {
        "trusted": true,
        "id": "n-ec0bv0H5zj",
        "colab": {
          "base_uri": "https://localhost:8080/"
        },
        "outputId": "f60a1259-6774-49dc-b4ba-d7c5e5aa3938"
      },
      "execution_count": 102,
      "outputs": [
        {
          "output_type": "stream",
          "name": "stdout",
          "text": [
            "Best parameters:  {'criterion': 'entropy', 'max_depth': 16, 'splitter': 'best'}\n",
            "                       precision    recall  f1-score   support\n",
            "\n",
            "            10th Pass       0.53      0.54      0.53       140\n",
            "            12th Pass       0.46      0.45      0.46       113\n",
            "             5th Pass       0.00      0.00      0.00         2\n",
            "             8th Pass       0.47      0.44      0.46        43\n",
            "            Doctorate       0.59      0.71      0.65        42\n",
            "             Graduate       0.50      0.49      0.50       196\n",
            "Graduate Professional       0.48      0.55      0.51       164\n",
            "             Literate       0.00      0.00      0.00         1\n",
            "               Others       0.00      0.00      0.00         5\n",
            "        Post Graduate       0.57      0.50      0.53       198\n",
            "\n",
            "             accuracy                           0.51       904\n",
            "            macro avg       0.36      0.37      0.36       904\n",
            "         weighted avg       0.51      0.51      0.51       904\n",
            "\n",
            "Confusion Matrix:\n",
            "[[75 12  1  3  2 21 17  0  0  9]\n",
            " [ 9 51  0  4  1 18 15  0  0 15]\n",
            " [ 1  1  0  0  0  0  0  0  0  0]\n",
            " [ 7  2  0 19  2  2  3  0  0  8]\n",
            " [ 0  1  0  1 30  3  5  0  0  2]\n",
            " [18 16  0  8  3 97 30  0  0 24]\n",
            " [14 14  0  2  3 26 90  0  0 15]\n",
            " [ 0  0  0  0  0  0  1  0  0  0]\n",
            " [ 0  2  0  0  0  0  1  0  0  2]\n",
            " [18 11  1  3 10 28 27  1  0 99]]\n"
          ]
        },
        {
          "output_type": "stream",
          "name": "stderr",
          "text": [
            "/usr/local/lib/python3.10/dist-packages/sklearn/metrics/_classification.py:1344: UndefinedMetricWarning: Precision and F-score are ill-defined and being set to 0.0 in labels with no predicted samples. Use `zero_division` parameter to control this behavior.\n",
            "  _warn_prf(average, modifier, msg_start, len(result))\n",
            "/usr/local/lib/python3.10/dist-packages/sklearn/metrics/_classification.py:1344: UndefinedMetricWarning: Precision and F-score are ill-defined and being set to 0.0 in labels with no predicted samples. Use `zero_division` parameter to control this behavior.\n",
            "  _warn_prf(average, modifier, msg_start, len(result))\n",
            "/usr/local/lib/python3.10/dist-packages/sklearn/metrics/_classification.py:1344: UndefinedMetricWarning: Precision and F-score are ill-defined and being set to 0.0 in labels with no predicted samples. Use `zero_division` parameter to control this behavior.\n",
            "  _warn_prf(average, modifier, msg_start, len(result))\n",
            "/usr/local/lib/python3.10/dist-packages/sklearn/base.py:432: UserWarning: X has feature names, but DecisionTreeClassifier was fitted without feature names\n",
            "  warnings.warn(\n"
          ]
        }
      ]
    },
    {
      "cell_type": "markdown",
      "source": [
        "# Random Forest Classifier Model"
      ],
      "metadata": {
        "id": "iAA2rSscH5zj"
      }
    },
    {
      "cell_type": "code",
      "source": [
        "from sklearn.ensemble import RandomForestClassifier\n",
        "\n",
        "params_grid_RF = {\n",
        "    # 'n_estimators' : [90,100,150,200],\n",
        "    # 'criterion' : ['gini','entropy','log_loss'],\n",
        "    'max_depth' : [10,11,12,13,14 ],\n",
        "    # 'min_samples_split' : [7, 9, 10, 11, 13],\n",
        "}\n",
        "\n",
        "best_RF_model = train_and_evaluate_model(RandomForestClassifier(random_state=42), params_grid_RF, X_train, y_train, X_test, y_test, test_data),"
      ],
      "metadata": {
        "trusted": true,
        "id": "m63Qb1ipH5zj",
        "colab": {
          "base_uri": "https://localhost:8080/"
        },
        "outputId": "f2b29592-3932-42ec-a8b3-2b98dac4ac39"
      },
      "execution_count": 106,
      "outputs": [
        {
          "output_type": "stream",
          "name": "stdout",
          "text": [
            "Best parameters:  {'max_depth': 14}\n",
            "                       precision    recall  f1-score   support\n",
            "\n",
            "            10th Pass       0.57      0.36      0.44       140\n",
            "            12th Pass       0.42      0.28      0.34       113\n",
            "             5th Pass       0.00      0.00      0.00         2\n",
            "             8th Pass       0.60      0.21      0.31        43\n",
            "            Doctorate       0.68      0.62      0.65        42\n",
            "             Graduate       0.39      0.46      0.42       196\n",
            "Graduate Professional       0.34      0.55      0.42       164\n",
            "             Literate       0.00      0.00      0.00         1\n",
            "               Others       0.00      0.00      0.00         5\n",
            "        Post Graduate       0.46      0.43      0.44       198\n",
            "\n",
            "             accuracy                           0.42       904\n",
            "            macro avg       0.35      0.29      0.30       904\n",
            "         weighted avg       0.45      0.42      0.42       904\n",
            "\n",
            "Confusion Matrix:\n",
            "[[51 12  0  0  1 28 24  0  0 24]\n",
            " [ 9 32  0  0  0 24 35  0  0 13]\n",
            " [ 0  2  0  0  0  0  0  0  0  0]\n",
            " [ 3  2  0  9  2 13 11  0  1  2]\n",
            " [ 0  0  0  0 26  7  7  0  0  2]\n",
            " [11 16  0  2  1 90 46  0  1 29]\n",
            " [ 9  4  0  1  3 27 91  0  0 29]\n",
            " [ 0  0  0  0  0  1  0  0  0  0]\n",
            " [ 0  1  0  0  0  1  2  0  0  1]\n",
            " [ 7  8  0  3  5 37 53  0  0 85]]\n"
          ]
        },
        {
          "output_type": "stream",
          "name": "stderr",
          "text": [
            "/usr/local/lib/python3.10/dist-packages/sklearn/metrics/_classification.py:1344: UndefinedMetricWarning: Precision and F-score are ill-defined and being set to 0.0 in labels with no predicted samples. Use `zero_division` parameter to control this behavior.\n",
            "  _warn_prf(average, modifier, msg_start, len(result))\n",
            "/usr/local/lib/python3.10/dist-packages/sklearn/metrics/_classification.py:1344: UndefinedMetricWarning: Precision and F-score are ill-defined and being set to 0.0 in labels with no predicted samples. Use `zero_division` parameter to control this behavior.\n",
            "  _warn_prf(average, modifier, msg_start, len(result))\n",
            "/usr/local/lib/python3.10/dist-packages/sklearn/metrics/_classification.py:1344: UndefinedMetricWarning: Precision and F-score are ill-defined and being set to 0.0 in labels with no predicted samples. Use `zero_division` parameter to control this behavior.\n",
            "  _warn_prf(average, modifier, msg_start, len(result))\n",
            "/usr/local/lib/python3.10/dist-packages/sklearn/base.py:432: UserWarning: X has feature names, but RandomForestClassifier was fitted without feature names\n",
            "  warnings.warn(\n"
          ]
        }
      ]
    },
    {
      "cell_type": "markdown",
      "source": [
        "# Bernoulli NB Classifier Model"
      ],
      "metadata": {
        "id": "3tevvHAGH5zj"
      }
    },
    {
      "cell_type": "code",
      "source": [
        "from sklearn.naive_bayes import BernoulliNB\n",
        "\n",
        "params_grid_BNB = {\n",
        "    'alpha' : [0.1,0.3,0.4,0.5,0.6,0.7,1.0, 1.3, 1.6,2.0, 2.1, 2.2,2.4,2.5,2.6],\n",
        "    'force_alpha': [True, False],\n",
        "    'fit_prior': [True, False],\n",
        "    'binarize' : [0.0,0.1]\n",
        "}\n",
        "\n",
        "best_BNB_model = train_and_evaluate_model(BernoulliNB(), params_grid_BNB, X_train, y_train, X_test, y_test, test_data)"
      ],
      "metadata": {
        "trusted": true,
        "id": "50e_VPISH5zj",
        "colab": {
          "base_uri": "https://localhost:8080/"
        },
        "outputId": "3f69acea-71bd-4991-fd4f-d5cf395160ba"
      },
      "execution_count": 105,
      "outputs": [
        {
          "output_type": "stream",
          "name": "stdout",
          "text": [
            "Best parameters:  {'alpha': 1.6, 'binarize': 0.0, 'fit_prior': True, 'force_alpha': True}\n",
            "                       precision    recall  f1-score   support\n",
            "\n",
            "            10th Pass       0.28      0.09      0.14       140\n",
            "            12th Pass       0.22      0.12      0.15       113\n",
            "             5th Pass       0.00      0.00      0.00         2\n",
            "             8th Pass       0.10      0.02      0.04        43\n",
            "            Doctorate       0.58      0.33      0.42        42\n",
            "             Graduate       0.30      0.36      0.33       196\n",
            "Graduate Professional       0.27      0.44      0.33       164\n",
            "             Literate       0.00      0.00      0.00         1\n",
            "               Others       0.00      0.00      0.00         5\n",
            "        Post Graduate       0.32      0.41      0.36       198\n",
            "\n",
            "             accuracy                           0.29       904\n",
            "            macro avg       0.21      0.18      0.18       904\n",
            "         weighted avg       0.29      0.29      0.27       904\n",
            "\n",
            "Confusion Matrix:\n",
            "[[13 11  0  0  1 37 39  0  0 39]\n",
            " [12 13  0  2  1 29 32  0  0 24]\n",
            " [ 1  0  0  0  0  1  0  0  0  0]\n",
            " [ 3  2  0  1  0 14  9  0  0 14]\n",
            " [ 0  3  0  0 14  9  6  0  0 10]\n",
            " [ 7 15  0  0  3 71 58  0  0 42]\n",
            " [ 4  5  0  1  3 37 72  0  1 41]\n",
            " [ 0  0  0  0  0  1  0  0  0  0]\n",
            " [ 0  0  0  0  0  1  2  0  0  2]\n",
            " [ 7 10  0  6  2 39 51  0  2 81]]\n"
          ]
        },
        {
          "output_type": "stream",
          "name": "stderr",
          "text": [
            "/usr/local/lib/python3.10/dist-packages/sklearn/metrics/_classification.py:1344: UndefinedMetricWarning: Precision and F-score are ill-defined and being set to 0.0 in labels with no predicted samples. Use `zero_division` parameter to control this behavior.\n",
            "  _warn_prf(average, modifier, msg_start, len(result))\n",
            "/usr/local/lib/python3.10/dist-packages/sklearn/metrics/_classification.py:1344: UndefinedMetricWarning: Precision and F-score are ill-defined and being set to 0.0 in labels with no predicted samples. Use `zero_division` parameter to control this behavior.\n",
            "  _warn_prf(average, modifier, msg_start, len(result))\n",
            "/usr/local/lib/python3.10/dist-packages/sklearn/metrics/_classification.py:1344: UndefinedMetricWarning: Precision and F-score are ill-defined and being set to 0.0 in labels with no predicted samples. Use `zero_division` parameter to control this behavior.\n",
            "  _warn_prf(average, modifier, msg_start, len(result))\n",
            "/usr/local/lib/python3.10/dist-packages/sklearn/base.py:432: UserWarning: X has feature names, but BernoulliNB was fitted without feature names\n",
            "  warnings.warn(\n"
          ]
        }
      ]
    },
    {
      "cell_type": "markdown",
      "source": [
        "# SVC Classifier Model"
      ],
      "metadata": {
        "id": "SR5ZTRb-H5zj"
      }
    },
    {
      "cell_type": "code",
      "source": [
        "from sklearn.svm import SVC\n",
        "\n",
        "params_grid_SVC = {\n",
        "    'C': [ 0.01, 0.1, 1,5,7, 10, 12,15,18],\n",
        "    # 'kernel' : ['linear', 'poly', 'sigmoid'],\n",
        "    'tol': [0.001, 0.01, 0.1]\n",
        "}\n",
        "\n",
        "best_SVC_model = train_and_evaluate_model(SVC(random_state=42), params_grid_SVC, X_train, y_train, X_test, y_test, test_data)"
      ],
      "metadata": {
        "trusted": true,
        "id": "Lypo2QnPH5zj",
        "colab": {
          "base_uri": "https://localhost:8080/"
        },
        "outputId": "91166bd8-78f5-4691-d602-9b9e149beccb"
      },
      "execution_count": 107,
      "outputs": [
        {
          "output_type": "stream",
          "name": "stdout",
          "text": [
            "Best parameters:  {'C': 18, 'tol': 0.1}\n"
          ]
        },
        {
          "output_type": "stream",
          "name": "stderr",
          "text": [
            "/usr/local/lib/python3.10/dist-packages/sklearn/metrics/_classification.py:1344: UndefinedMetricWarning: Precision and F-score are ill-defined and being set to 0.0 in labels with no predicted samples. Use `zero_division` parameter to control this behavior.\n",
            "  _warn_prf(average, modifier, msg_start, len(result))\n",
            "/usr/local/lib/python3.10/dist-packages/sklearn/metrics/_classification.py:1344: UndefinedMetricWarning: Precision and F-score are ill-defined and being set to 0.0 in labels with no predicted samples. Use `zero_division` parameter to control this behavior.\n",
            "  _warn_prf(average, modifier, msg_start, len(result))\n",
            "/usr/local/lib/python3.10/dist-packages/sklearn/metrics/_classification.py:1344: UndefinedMetricWarning: Precision and F-score are ill-defined and being set to 0.0 in labels with no predicted samples. Use `zero_division` parameter to control this behavior.\n",
            "  _warn_prf(average, modifier, msg_start, len(result))\n",
            "/usr/local/lib/python3.10/dist-packages/sklearn/base.py:432: UserWarning: X has feature names, but SVC was fitted without feature names\n",
            "  warnings.warn(\n"
          ]
        },
        {
          "output_type": "stream",
          "name": "stdout",
          "text": [
            "                       precision    recall  f1-score   support\n",
            "\n",
            "            10th Pass       0.23      0.10      0.14       140\n",
            "            12th Pass       0.20      0.07      0.10       113\n",
            "             5th Pass       0.00      0.00      0.00         2\n",
            "             8th Pass       0.22      0.05      0.08        43\n",
            "            Doctorate       0.43      0.48      0.45        42\n",
            "             Graduate       0.32      0.32      0.32       196\n",
            "Graduate Professional       0.27      0.48      0.35       164\n",
            "             Literate       0.00      0.00      0.00         1\n",
            "               Others       0.00      0.00      0.00         5\n",
            "        Post Graduate       0.31      0.41      0.36       198\n",
            "\n",
            "             accuracy                           0.30       904\n",
            "            macro avg       0.20      0.19      0.18       904\n",
            "         weighted avg       0.28      0.30      0.27       904\n",
            "\n",
            "Confusion Matrix:\n",
            "[[14  7  0  0  8 33 36  0  0 42]\n",
            " [ 9  8  0  0  3 28 41  0  0 24]\n",
            " [ 1  0  0  0  0  1  0  0  0  0]\n",
            " [ 3  3  0  2  4  8 16  0  0  7]\n",
            " [ 2  0  0  0 20  8  7  0  0  5]\n",
            " [ 9  7  0  3  3 62 57  0  0 55]\n",
            " [10  6  0  2  3 20 79  0  0 44]\n",
            " [ 0  0  0  0  0  1  0  0  0  0]\n",
            " [ 0  0  0  0  0  2  1  0  0  2]\n",
            " [14  9  0  2  6 33 52  0  0 82]]\n"
          ]
        }
      ]
    },
    {
      "cell_type": "markdown",
      "source": [
        "# K Nearest Neighbours Classifier"
      ],
      "metadata": {
        "id": "U8s1UiQ1H5zj"
      }
    },
    {
      "cell_type": "code",
      "source": [
        "from sklearn.neighbors import KNeighborsClassifier\n",
        "\n",
        "params_grid_KNN = {\n",
        "    'n_neighbors': [3, 5 ,6,7, 8, 9],\n",
        "    'weights': ['uniform', 'distance'],\n",
        "    'metric': ['euclidean', 'manhattan', 'chebyshev', 'minkowski'],\n",
        "}\n",
        "\n",
        "best_KNN_model = train_and_evaluate_model(KNeighborsClassifier(), params_grid_KNN, X_train, y_train, X_test, y_test, test_data)"
      ],
      "metadata": {
        "trusted": true,
        "id": "P-DhWF0sH5zj",
        "colab": {
          "base_uri": "https://localhost:8080/"
        },
        "outputId": "5d9ed8b2-4706-446f-ca9b-d9df0f7f7ded"
      },
      "execution_count": 104,
      "outputs": [
        {
          "output_type": "stream",
          "name": "stdout",
          "text": [
            "Best parameters:  {'metric': 'euclidean', 'n_neighbors': 3, 'weights': 'distance'}\n",
            "                       precision    recall  f1-score   support\n",
            "\n",
            "            10th Pass       0.51      0.51      0.51       140\n",
            "            12th Pass       0.35      0.45      0.40       113\n",
            "             5th Pass       0.00      0.00      0.00         2\n",
            "             8th Pass       0.42      0.42      0.42        43\n",
            "            Doctorate       0.56      0.81      0.66        42\n",
            "             Graduate       0.52      0.46      0.49       196\n",
            "Graduate Professional       0.45      0.45      0.45       164\n",
            "             Literate       0.00      0.00      0.00         1\n",
            "               Others       0.00      0.00      0.00         5\n",
            "        Post Graduate       0.52      0.46      0.49       198\n",
            "\n",
            "             accuracy                           0.48       904\n",
            "            macro avg       0.33      0.36      0.34       904\n",
            "         weighted avg       0.48      0.48      0.47       904\n",
            "\n",
            "Confusion Matrix:\n",
            "[[71 18  0  2  2 15 20  0  0 12]\n",
            " [ 7 51  1  6  1 15 16  1  0 15]\n",
            " [ 0  0  0  0  0  1  1  0  0  0]\n",
            " [ 4  3  0 18  2  7  5  0  1  3]\n",
            " [ 0  1  0  0 34  5  2  0  0  0]\n",
            " [19 28  0  7  9 91 15  0  0 27]\n",
            " [19 22  0  4  4 17 73  0  0 25]\n",
            " [ 0  0  0  0  0  0  1  0  0  0]\n",
            " [ 0  1  0  0  0  1  1  0  0  2]\n",
            " [19 20  0  6  9 24 28  0  0 92]]\n"
          ]
        },
        {
          "output_type": "stream",
          "name": "stderr",
          "text": [
            "/usr/local/lib/python3.10/dist-packages/sklearn/base.py:432: UserWarning: X has feature names, but KNeighborsClassifier was fitted without feature names\n",
            "  warnings.warn(\n"
          ]
        }
      ]
    },
    {
      "cell_type": "markdown",
      "source": [
        "# Gradient Boosting Classifier Model"
      ],
      "metadata": {
        "id": "Zdkex9oDH5zk"
      }
    },
    {
      "cell_type": "code",
      "source": [
        "from sklearn.ensemble import GradientBoostingClassifier\n",
        "\n",
        "params_grid_GDB = {\n",
        "    # 'loss':['log_loss', 'exponential'],\n",
        "    'learning_rate': [0.001, 0.01, 0.1, 1,10],\n",
        "    # 'n_estimators':[100, 500, 1000],\n",
        "}\n",
        "\n",
        "best_GDB_model = train_and_evaluate_model(GradientBoostingClassifier(random_state = 42), params_grid_GDB, X_train, y_train, X_test, y_test, test_data)"
      ],
      "metadata": {
        "trusted": true,
        "id": "yQAB_58PH5zk",
        "colab": {
          "base_uri": "https://localhost:8080/"
        },
        "outputId": "85aeb258-91b9-41d8-bdfb-6d6987133b93"
      },
      "execution_count": 108,
      "outputs": [
        {
          "output_type": "stream",
          "name": "stdout",
          "text": [
            "Best parameters:  {'learning_rate': 0.1}\n",
            "                       precision    recall  f1-score   support\n",
            "\n",
            "            10th Pass       0.44      0.34      0.39       140\n",
            "            12th Pass       0.35      0.19      0.24       113\n",
            "             5th Pass       0.00      0.00      0.00         2\n",
            "             8th Pass       0.39      0.33      0.35        43\n",
            "            Doctorate       0.59      0.52      0.56        42\n",
            "             Graduate       0.35      0.47      0.40       196\n",
            "Graduate Professional       0.34      0.44      0.38       164\n",
            "             Literate       0.00      0.00      0.00         1\n",
            "               Others       0.20      0.20      0.20         5\n",
            "        Post Graduate       0.42      0.39      0.41       198\n",
            "\n",
            "             accuracy                           0.38       904\n",
            "            macro avg       0.31      0.29      0.29       904\n",
            "         weighted avg       0.39      0.38      0.38       904\n",
            "\n",
            "Confusion Matrix:\n",
            "[[48 10  0  2  0 36 18  0  1 25]\n",
            " [12 21  0  2  1 35 26  0  0 16]\n",
            " [ 1  0  0  0  0  1  0  0  0  0]\n",
            " [ 6  2  0 14  2  7  9  0  1  2]\n",
            " [ 0  0  0  1 22  9  6  0  0  4]\n",
            " [14 10  0  8  2 92 41  0  2 27]\n",
            " [11  7  0  2  5 39 72  0  0 28]\n",
            " [ 0  0  0  0  0  1  0  0  0  0]\n",
            " [ 0  0  0  0  0  1  0  0  1  3]\n",
            " [16 10  0  7  5 41 42  0  0 77]]\n"
          ]
        },
        {
          "output_type": "stream",
          "name": "stderr",
          "text": [
            "/usr/local/lib/python3.10/dist-packages/sklearn/metrics/_classification.py:1344: UndefinedMetricWarning: Precision and F-score are ill-defined and being set to 0.0 in labels with no predicted samples. Use `zero_division` parameter to control this behavior.\n",
            "  _warn_prf(average, modifier, msg_start, len(result))\n",
            "/usr/local/lib/python3.10/dist-packages/sklearn/metrics/_classification.py:1344: UndefinedMetricWarning: Precision and F-score are ill-defined and being set to 0.0 in labels with no predicted samples. Use `zero_division` parameter to control this behavior.\n",
            "  _warn_prf(average, modifier, msg_start, len(result))\n",
            "/usr/local/lib/python3.10/dist-packages/sklearn/metrics/_classification.py:1344: UndefinedMetricWarning: Precision and F-score are ill-defined and being set to 0.0 in labels with no predicted samples. Use `zero_division` parameter to control this behavior.\n",
            "  _warn_prf(average, modifier, msg_start, len(result))\n",
            "/usr/local/lib/python3.10/dist-packages/sklearn/base.py:432: UserWarning: X has feature names, but GradientBoostingClassifier was fitted without feature names\n",
            "  warnings.warn(\n"
          ]
        }
      ]
    },
    {
      "cell_type": "markdown",
      "source": [
        "#### Thank you!!"
      ],
      "metadata": {
        "id": "3U3SwtpQH5zk"
      }
    }
  ]
}